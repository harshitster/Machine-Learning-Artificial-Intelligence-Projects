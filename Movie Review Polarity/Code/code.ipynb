{
 "cells": [
  {
   "cell_type": "code",
   "execution_count": 1,
   "metadata": {},
   "outputs": [],
   "source": [
    "from tensorflow.keras.utils import text_dataset_from_directory\n",
    "from tensorflow.strings import regex_replace"
   ]
  },
  {
   "cell_type": "code",
   "execution_count": 2,
   "metadata": {},
   "outputs": [],
   "source": [
    "def preprocess_data(directory):\n",
    "    data = text_dataset_from_directory(directory)\n",
    "    return data.map(lambda text, label: (regex_replace(text, '<br />', ' '), label))"
   ]
  },
  {
   "cell_type": "code",
   "execution_count": 3,
   "metadata": {},
   "outputs": [
    {
     "name": "stdout",
     "output_type": "stream",
     "text": [
      "Found 25000 files belonging to 2 classes.\n"
     ]
    },
    {
     "name": "stderr",
     "output_type": "stream",
     "text": [
      "2023-03-04 07:08:23.465234: I tensorflow/core/platform/cpu_feature_guard.cc:193] This TensorFlow binary is optimized with oneAPI Deep Neural Network Library (oneDNN) to use the following CPU instructions in performance-critical operations:  AVX2 FMA\n",
      "To enable them in other operations, rebuild TensorFlow with the appropriate compiler flags.\n"
     ]
    },
    {
     "name": "stdout",
     "output_type": "stream",
     "text": [
      "Found 25000 files belonging to 2 classes.\n"
     ]
    }
   ],
   "source": [
    "train_data = preprocess_data('/Applications/ML projects/Movie Review Polarity/Dataset/train')\n",
    "test_data = preprocess_data('/Applications/ML projects/Movie Review Polarity/Dataset/test')"
   ]
  },
  {
   "cell_type": "code",
   "execution_count": 4,
   "metadata": {},
   "outputs": [],
   "source": [
    "from tensorflow.keras.layers.experimental.preprocessing import TextVectorization\n",
    "from tensorflow.keras.models import Sequential\n",
    "from tensorflow.keras import Input\n",
    "from tensorflow.keras.layers import Dense, LSTM, Embedding, Dropout"
   ]
  },
  {
   "cell_type": "code",
   "execution_count": 10,
   "metadata": {},
   "outputs": [],
   "source": [
    "def MODEL(train_texts, max_tokens=1000, max_len=100):\n",
    "    model = Sequential()\n",
    "    model.add(Input(shape=(1,), dtype=\"string\"))\n",
    "    vectorize_layer = TextVectorization(max_tokens=max_tokens, output_mode='int', output_sequence_length=max_len)\n",
    "    vectorize_layer.adapt(train_texts)\n",
    "    model.add(vectorize_layer)\n",
    "    model.add(Embedding(max_tokens + 1, 128))\n",
    "    model.add(LSTM(64))\n",
    "    model.add(Dense(64, activation='relu'))\n",
    "    model.add(Dense(1, activation='sigmoid'))\n",
    "\n",
    "    model.compile(loss='binary_crossentropy', optimizer='adam', metrics=['accuracy'])\n",
    "    return model"
   ]
  },
  {
   "cell_type": "code",
   "execution_count": 11,
   "metadata": {},
   "outputs": [],
   "source": [
    "train_texts = train_data.map(lambda text, label: text)"
   ]
  },
  {
   "cell_type": "code",
   "execution_count": 12,
   "metadata": {},
   "outputs": [
    {
     "name": "stdout",
     "output_type": "stream",
     "text": [
      "Model: \"sequential_2\"\n",
      "_________________________________________________________________\n",
      " Layer (type)                Output Shape              Param #   \n",
      "=================================================================\n",
      " text_vectorization (TextVec  (None, 100)              0         \n",
      " torization)                                                     \n",
      "                                                                 \n",
      " embedding (Embedding)       (None, 100, 128)          128128    \n",
      "                                                                 \n",
      " lstm (LSTM)                 (None, 64)                49408     \n",
      "                                                                 \n",
      " dense (Dense)               (None, 64)                4160      \n",
      "                                                                 \n",
      " dense_1 (Dense)             (None, 1)                 65        \n",
      "                                                                 \n",
      "=================================================================\n",
      "Total params: 181,761\n",
      "Trainable params: 181,761\n",
      "Non-trainable params: 0\n",
      "_________________________________________________________________\n"
     ]
    }
   ],
   "source": [
    "model = MODEL(train_texts)\n",
    "model.summary()"
   ]
  },
  {
   "cell_type": "code",
   "execution_count": 13,
   "metadata": {},
   "outputs": [
    {
     "name": "stdout",
     "output_type": "stream",
     "text": [
      "Epoch 1/10\n",
      "782/782 [==============================] - 28s 33ms/step - loss: 0.5534 - accuracy: 0.7113\n",
      "Epoch 2/10\n",
      "782/782 [==============================] - 27s 34ms/step - loss: 0.4445 - accuracy: 0.7955\n",
      "Epoch 3/10\n",
      "782/782 [==============================] - 27s 34ms/step - loss: 0.4079 - accuracy: 0.8146\n",
      "Epoch 4/10\n",
      "782/782 [==============================] - 27s 34ms/step - loss: 0.3914 - accuracy: 0.8217\n",
      "Epoch 5/10\n",
      "782/782 [==============================] - 27s 34ms/step - loss: 0.3687 - accuracy: 0.8359\n",
      "Epoch 6/10\n",
      "782/782 [==============================] - 26s 34ms/step - loss: 0.3451 - accuracy: 0.8501\n",
      "Epoch 7/10\n",
      "782/782 [==============================] - 26s 34ms/step - loss: 0.3304 - accuracy: 0.8573\n",
      "Epoch 8/10\n",
      "782/782 [==============================] - 26s 33ms/step - loss: 0.3130 - accuracy: 0.8644\n",
      "Epoch 9/10\n",
      "782/782 [==============================] - 26s 34ms/step - loss: 0.2994 - accuracy: 0.8736\n",
      "Epoch 10/10\n",
      "782/782 [==============================] - 27s 34ms/step - loss: 0.2823 - accuracy: 0.8821\n"
     ]
    },
    {
     "data": {
      "text/plain": [
       "<keras.callbacks.History at 0x153643c40>"
      ]
     },
     "execution_count": 13,
     "metadata": {},
     "output_type": "execute_result"
    }
   ],
   "source": [
    "model.fit(train_data, epochs=10, verbose=1)"
   ]
  },
  {
   "cell_type": "code",
   "execution_count": 14,
   "metadata": {},
   "outputs": [
    {
     "name": "stdout",
     "output_type": "stream",
     "text": [
      "Epoch 1/5\n",
      "782/782 [==============================] - 26s 34ms/step - loss: 0.2679 - accuracy: 0.8880\n",
      "Epoch 2/5\n",
      "782/782 [==============================] - 26s 34ms/step - loss: 0.2655 - accuracy: 0.8881\n",
      "Epoch 3/5\n",
      "782/782 [==============================] - 26s 33ms/step - loss: 0.2601 - accuracy: 0.8925\n",
      "Epoch 4/5\n",
      "782/782 [==============================] - 26s 34ms/step - loss: 0.2474 - accuracy: 0.8981\n",
      "Epoch 5/5\n",
      "782/782 [==============================] - 27s 35ms/step - loss: 0.2370 - accuracy: 0.9016\n"
     ]
    },
    {
     "data": {
      "text/plain": [
       "<keras.callbacks.History at 0x12ed44d90>"
      ]
     },
     "execution_count": 14,
     "metadata": {},
     "output_type": "execute_result"
    }
   ],
   "source": [
    "model.fit(train_data, epochs=5, verbose=1)"
   ]
  },
  {
   "cell_type": "code",
   "execution_count": 23,
   "metadata": {},
   "outputs": [
    {
     "name": "stdout",
     "output_type": "stream",
     "text": [
      "782/782 [==============================] - 9s 11ms/step - loss: 0.6391 - accuracy: 0.7664\n"
     ]
    },
    {
     "data": {
      "text/plain": [
       "[0.6390857696533203, 0.7664399743080139]"
      ]
     },
     "execution_count": 23,
     "metadata": {},
     "output_type": "execute_result"
    }
   ],
   "source": [
    "model.evaluate(test_data)"
   ]
  }
 ],
 "metadata": {
  "kernelspec": {
   "display_name": "Python 3",
   "language": "python",
   "name": "python3"
  },
  "language_info": {
   "codemirror_mode": {
    "name": "ipython",
    "version": 3
   },
   "file_extension": ".py",
   "mimetype": "text/x-python",
   "name": "python",
   "nbconvert_exporter": "python",
   "pygments_lexer": "ipython3",
   "version": "3.10.3"
  },
  "orig_nbformat": 4
 },
 "nbformat": 4,
 "nbformat_minor": 2
}

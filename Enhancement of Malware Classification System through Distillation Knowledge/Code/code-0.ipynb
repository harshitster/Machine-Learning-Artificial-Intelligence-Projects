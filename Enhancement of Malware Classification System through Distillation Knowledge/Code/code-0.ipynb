{
 "cells": [
  {
   "cell_type": "code",
   "execution_count": 13,
   "metadata": {},
   "outputs": [],
   "source": [
    "import numpy as np\n",
    "import tensorflow as tf\n",
    "from tensorflow import keras\n",
    "import os\n",
    "from tqdm import tqdm\n",
    "from keras_preprocessing.image import img_to_array, load_img"
   ]
  },
  {
   "cell_type": "code",
   "execution_count": 14,
   "metadata": {},
   "outputs": [],
   "source": [
    "def load_images(path, SIZE=(224, 224, 3)):\n",
    "    malware, cl = [], []\n",
    "    for TYPE in tqdm(os.listdir(path)):\n",
    "        if TYPE == '.DS_Store':\n",
    "            continue\n",
    "        CLASS_PATH = os.path.join(path, TYPE)\n",
    "        for IMG in os.listdir(CLASS_PATH):\n",
    "            if IMG == '.DS_Store':\n",
    "                continue\n",
    "            IMG_PATH = os.path.join(CLASS_PATH, IMG)\n",
    "            malware.append(img_to_array(load_img(IMG_PATH, target_size=SIZE)))\n",
    "            cl.append(TYPE)\n",
    "    return [np.asarray(malware), np.asarray(cl)]"
   ]
  },
  {
   "cell_type": "code",
   "execution_count": 15,
   "metadata": {},
   "outputs": [
    {
     "name": "stderr",
     "output_type": "stream",
     "text": [
      "100%|██████████| 32/32 [00:48<00:00,  1.50s/it]\n",
      "100%|██████████| 32/32 [00:18<00:00,  1.75it/s]\n"
     ]
    }
   ],
   "source": [
    "byteplots_train, classes_train = load_images('/Applications/ML projects/Success/Blended Malware/Dataset/train')\n",
    "byteplots_val, classes_val = load_images('/Applications/ML projects/Success/Blended Malware/Dataset/val')"
   ]
  },
  {
   "cell_type": "code",
   "execution_count": 16,
   "metadata": {},
   "outputs": [
    {
     "name": "stdout",
     "output_type": "stream",
     "text": [
      "Saved Dataset:  /Applications/ML projects/Distillation learning/Dataset/train_file.npz\n",
      "Saved Dataset:  /Applications/ML projects/Distillation learning/Dataset/test_file.npz\n"
     ]
    }
   ],
   "source": [
    "train_file = '/Applications/ML projects/Distillation learning/Dataset/train_file.npz'\n",
    "test_file = '/Applications/ML projects/Distillation learning/Dataset/test_file.npz'\n",
    "\n",
    "np.savez_compressed(train_file, byteplots_train, classes_train)\n",
    "print('Saved Dataset: ', train_file)\n",
    "np.savez_compressed(test_file, byteplots_val, classes_val)\n",
    "print('Saved Dataset: ', test_file)"
   ]
  },
  {
   "cell_type": "code",
   "execution_count": 58,
   "metadata": {},
   "outputs": [],
   "source": [
    "from sklearn.preprocessing import LabelEncoder"
   ]
  },
  {
   "cell_type": "code",
   "execution_count": 59,
   "metadata": {},
   "outputs": [],
   "source": [
    "def load_samples(file):\n",
    "    dataset = np.load(file)\n",
    "    byteplots, classes = dataset['arr_0'], dataset['arr_1']\n",
    "    byteplots = byteplots / 255.0\n",
    "\n",
    "    shuffle = np.arange(byteplots.shape[0])\n",
    "    np.random.shuffle(shuffle)\n",
    "    byteplots = byteplots[shuffle]\n",
    "    classes = classes[shuffle]\n",
    "\n",
    "    le = LabelEncoder()\n",
    "    classes = le.fit_transform(classes)\n",
    "\n",
    "    return byteplots, classes"
   ]
  },
  {
   "cell_type": "code",
   "execution_count": 60,
   "metadata": {},
   "outputs": [],
   "source": [
    "class Distiller(keras.Model):\n",
    "    def __init__(self, student, teacher):\n",
    "        super().__init__()\n",
    "        self.student = student\n",
    "        self.teacher = teacher\n",
    "\n",
    "    def compile(self, optimizer, metrics, student_loss_fn, distillation_loss_fn, alpha=0.1, temperature=3):\n",
    "        super().compile(optimizer=optimizer, metrics=metrics)\n",
    "        self.student_loss_fn = student_loss_fn\n",
    "        self.distillation_loss_fn = distillation_loss_fn\n",
    "        self.alpha = alpha\n",
    "        self.temperature = temperature\n",
    "    \n",
    "    def train_step(self, data):\n",
    "        byteplots, classes = data\n",
    "\n",
    "        teacher_predictions = self.teacher(byteplots, training=False)\n",
    "\n",
    "        with tf.GradientTape() as tape:\n",
    "            student_predictions = self.student(byteplots, training=True)\n",
    "            student_loss = self.student_loss_fn(classes, student_predictions)\n",
    "            distillation_loss = (\n",
    "                self.distillation_loss_fn(\n",
    "                    tf.nn.softmax(teacher_predictions / self.temperature, axis=1),\n",
    "                    tf.nn.softmax(student_predictions / self.temperature, axis=1)\n",
    "                ) * self.temperature**2\n",
    "            )\n",
    "            loss = self.alpha * student_loss + (1 - self.alpha) * distillation_loss\n",
    "\n",
    "        trainable_variables = self.student.trainable_variables\n",
    "        gradients = tape.gradient(loss, trainable_variables)\n",
    "\n",
    "        self.optimizer.apply_gradients(zip(gradients, trainable_variables))\n",
    "        self.compiled_metrics.update_state(classes, student_predictions)\n",
    "\n",
    "        results = {m.name: m.result() for m in self.metrics}\n",
    "        results.update(\n",
    "            {\"student_loss\": student_loss, \"distillation_loss\": distillation_loss}\n",
    "        )\n",
    "        return results\n",
    "\n",
    "    def test_step(self, data):\n",
    "        byteplots, classes = data\n",
    "        student_prediction = self.student(byteplots, training=False)\n",
    "        student_loss = self.student_loss_fn(classes, student_prediction)\n",
    "        self.compiled_metrics.update_state(classes, student_prediction)\n",
    "        \n",
    "        results = {m.name: m.result() for m in self.metrics}\n",
    "        results.update({\"student_loss\": student_loss})\n",
    "        return results"
   ]
  },
  {
   "cell_type": "code",
   "execution_count": 61,
   "metadata": {},
   "outputs": [],
   "source": [
    "vgg16 = keras.applications.vgg16.VGG16(weights='imagenet', include_top=False, input_tensor=keras.Input(shape=(224, 224, 3)))\n",
    "vgg16.trainable = False\n",
    "\n",
    "teacher = keras.Sequential(\n",
    "    [\n",
    "        keras.Input(shape=(224, 224, 3)),\n",
    "        vgg16,\n",
    "\n",
    "        keras.layers.Flatten(),\n",
    "\n",
    "        keras.layers.Dense(units=1024, activation='relu'),\n",
    "        keras.layers.Dense(units=256, activation='relu'),\n",
    "        keras.layers.Dense(units=31)\n",
    "\n",
    "    ]\n",
    ")"
   ]
  },
  {
   "cell_type": "code",
   "execution_count": 62,
   "metadata": {},
   "outputs": [],
   "source": [
    "teacher.compile(\n",
    "    optimizer=keras.optimizers.Adam(),\n",
    "    loss=keras.losses.SparseCategoricalCrossentropy(from_logits=True),\n",
    "    metrics=[keras.metrics.SparseCategoricalAccuracy()],\n",
    ")"
   ]
  },
  {
   "cell_type": "code",
   "execution_count": 63,
   "metadata": {},
   "outputs": [],
   "source": [
    "student = keras.Sequential(\n",
    "    [\n",
    "        keras.Input(shape=(224, 224, 3)),\n",
    "        \n",
    "        keras.layers.Conv2D(filters=32, kernel_size=(4, 4), strides=(2, 2), padding='same'),\n",
    "        keras.layers.LeakyReLU(alpha=0.2),\n",
    "\n",
    "        keras.layers.Conv2D(filters=64, kernel_size=(4, 4), strides=(2, 2), padding='same'),\n",
    "        keras.layers.BatchNormalization(),\n",
    "        keras.layers.LeakyReLU(alpha=0.2),\n",
    "\n",
    "        keras.layers.Conv2D(filters=128, kernel_size=(4, 4), strides=(2, 2), padding='same'),\n",
    "        keras.layers.BatchNormalization(),\n",
    "        keras.layers.LeakyReLU(alpha=0.2),\n",
    "\n",
    "        keras.layers.Conv2D(filters=256, kernel_size=(4, 4), strides=(2, 2), padding='same'),\n",
    "        keras.layers.BatchNormalization(),\n",
    "        keras.layers.LeakyReLU(alpha=0.2),\n",
    "\n",
    "        keras.layers.Conv2D(filters=512, kernel_size=(4, 4), strides=(2, 2), padding='same'),\n",
    "        keras.layers.BatchNormalization(),\n",
    "        keras.layers.LeakyReLU(alpha=0.2),\n",
    "\n",
    "        keras.layers.Conv2D(filters=512, kernel_size=(4, 4), strides=(2, 2), padding='same'),\n",
    "        keras.layers.BatchNormalization(),\n",
    "        keras.layers.LeakyReLU(alpha=0.2),\n",
    "\n",
    "        keras.layers.Flatten(),\n",
    "\n",
    "        keras.layers.Dense(units=1024, activation='relu'),\n",
    "        keras.layers.Dense(units=256, activation='relu'),\n",
    "        keras.layers.Dense(units=31)\n",
    "    ]\n",
    ")"
   ]
  },
  {
   "cell_type": "code",
   "execution_count": 64,
   "metadata": {},
   "outputs": [],
   "source": [
    "distiller = Distiller(student=student, teacher=teacher)\n",
    "distiller.compile(\n",
    "    optimizer=keras.optimizers.Adam(),\n",
    "    metrics=[keras.metrics.SparseCategoricalAccuracy()],\n",
    "    student_loss_fn=keras.losses.SparseCategoricalCrossentropy(from_logits=True),\n",
    "    distillation_loss_fn=keras.losses.KLDivergence(),\n",
    "    alpha=0.1,\n",
    "    temperature=10,\n",
    ")"
   ]
  },
  {
   "cell_type": "code",
   "execution_count": 65,
   "metadata": {},
   "outputs": [],
   "source": [
    "student_scratch = keras.models.clone_model(student)"
   ]
  },
  {
   "cell_type": "code",
   "execution_count": 66,
   "metadata": {},
   "outputs": [],
   "source": [
    "student_scratch.compile(\n",
    "    optimizer=keras.optimizers.Adam(),\n",
    "    loss=keras.losses.SparseCategoricalCrossentropy(from_logits=True),\n",
    "    metrics=[keras.metrics.SparseCategoricalAccuracy()],\n",
    ")"
   ]
  },
  {
   "cell_type": "code",
   "execution_count": 67,
   "metadata": {},
   "outputs": [],
   "source": [
    "train_byteplots, train_classes = load_samples(train_file)"
   ]
  },
  {
   "cell_type": "code",
   "execution_count": 68,
   "metadata": {},
   "outputs": [
    {
     "name": "stdout",
     "output_type": "stream",
     "text": [
      "Epoch 1/5\n",
      "309/309 [==============================] - 1146s 4s/step - loss: 0.7032 - sparse_categorical_accuracy: 0.8300\n",
      "Epoch 2/5\n",
      "309/309 [==============================] - 1177s 4s/step - loss: 0.2238 - sparse_categorical_accuracy: 0.9375\n",
      "Epoch 3/5\n",
      "309/309 [==============================] - 1186s 4s/step - loss: 0.1555 - sparse_categorical_accuracy: 0.9534\n",
      "Epoch 4/5\n",
      "309/309 [==============================] - 1187s 4s/step - loss: 0.1211 - sparse_categorical_accuracy: 0.9649\n",
      "Epoch 5/5\n",
      "309/309 [==============================] - 1120s 4s/step - loss: 0.1093 - sparse_categorical_accuracy: 0.9656\n"
     ]
    }
   ],
   "source": [
    "teacher_history = teacher.fit(train_byteplots, train_classes, epochs=5, batch_size=32)"
   ]
  },
  {
   "cell_type": "code",
   "execution_count": 69,
   "metadata": {},
   "outputs": [],
   "source": [
    "teacher_path = '/Applications/ML projects/Distillation learning/Models/teacher.h5'"
   ]
  },
  {
   "cell_type": "code",
   "execution_count": 70,
   "metadata": {},
   "outputs": [],
   "source": [
    "teacher.save(teacher_path)"
   ]
  },
  {
   "cell_type": "code",
   "execution_count": 71,
   "metadata": {},
   "outputs": [
    {
     "name": "stdout",
     "output_type": "stream",
     "text": [
      "Epoch 1/5\n",
      "309/309 [==============================] - 1117s 4s/step - sparse_categorical_accuracy: 0.7654 - student_loss: 1.0229 - distillation_loss: 2.3084\n",
      "Epoch 2/5\n",
      "309/309 [==============================] - 1090s 4s/step - sparse_categorical_accuracy: 0.9054 - student_loss: 0.3507 - distillation_loss: 0.7235\n",
      "Epoch 3/5\n",
      "309/309 [==============================] - 1088s 4s/step - sparse_categorical_accuracy: 0.9314 - student_loss: 0.2430 - distillation_loss: 0.5253\n",
      "Epoch 4/5\n",
      "309/309 [==============================] - 1085s 4s/step - sparse_categorical_accuracy: 0.9513 - student_loss: 0.1731 - distillation_loss: 0.3632\n",
      "Epoch 5/5\n",
      "309/309 [==============================] - 1097s 4s/step - sparse_categorical_accuracy: 0.9525 - student_loss: 0.1551 - distillation_loss: 0.3500\n"
     ]
    }
   ],
   "source": [
    "distiller_history = distiller.fit(train_byteplots, train_classes, epochs=5, batch_size=32)"
   ]
  },
  {
   "cell_type": "code",
   "execution_count": 72,
   "metadata": {},
   "outputs": [],
   "source": [
    "student_path = '/Applications/ML projects/Distillation learning/Models/student.h5'"
   ]
  },
  {
   "cell_type": "code",
   "execution_count": 73,
   "metadata": {},
   "outputs": [
    {
     "name": "stdout",
     "output_type": "stream",
     "text": [
      "WARNING:tensorflow:Compiled the loaded model, but the compiled metrics have yet to be built. `model.compile_metrics` will be empty until you train or evaluate the model.\n"
     ]
    }
   ],
   "source": [
    "student.save(student_path)"
   ]
  },
  {
   "cell_type": "code",
   "execution_count": 74,
   "metadata": {},
   "outputs": [
    {
     "name": "stdout",
     "output_type": "stream",
     "text": [
      "Epoch 1/5\n",
      "309/309 [==============================] - 232s 747ms/step - loss: 0.8671 - sparse_categorical_accuracy: 0.7797\n",
      "Epoch 2/5\n",
      "309/309 [==============================] - 230s 744ms/step - loss: 0.3583 - sparse_categorical_accuracy: 0.9005\n",
      "Epoch 3/5\n",
      "309/309 [==============================] - 230s 744ms/step - loss: 0.2635 - sparse_categorical_accuracy: 0.9247\n",
      "Epoch 4/5\n",
      "309/309 [==============================] - 229s 740ms/step - loss: 0.2071 - sparse_categorical_accuracy: 0.9406\n",
      "Epoch 5/5\n",
      "309/309 [==============================] - 228s 739ms/step - loss: 0.1148 - sparse_categorical_accuracy: 0.9640\n"
     ]
    }
   ],
   "source": [
    "student_scratch_history = student_scratch.fit(train_byteplots, train_classes, epochs=5, batch_size=32)"
   ]
  },
  {
   "cell_type": "code",
   "execution_count": 75,
   "metadata": {},
   "outputs": [],
   "source": [
    "student_scratch_path = '/Applications/ML projects/Distillation learning/Models/student_scratch.h5'"
   ]
  },
  {
   "cell_type": "code",
   "execution_count": 76,
   "metadata": {},
   "outputs": [],
   "source": [
    "student_scratch.save(student_scratch_path)"
   ]
  },
  {
   "cell_type": "code",
   "execution_count": 77,
   "metadata": {},
   "outputs": [],
   "source": [
    "test_byteplots, test_classes = load_samples(test_file)"
   ]
  },
  {
   "cell_type": "code",
   "execution_count": 78,
   "metadata": {},
   "outputs": [
    {
     "name": "stdout",
     "output_type": "stream",
     "text": [
      "122/122 [==============================] - 326s 3s/step - loss: 0.3055 - sparse_categorical_accuracy: 0.9234\n"
     ]
    },
    {
     "data": {
      "text/plain": [
       "[0.30547896027565, 0.9234338998794556]"
      ]
     },
     "execution_count": 78,
     "metadata": {},
     "output_type": "execute_result"
    }
   ],
   "source": [
    "teacher.evaluate(test_byteplots, test_classes)"
   ]
  },
  {
   "cell_type": "code",
   "execution_count": 79,
   "metadata": {},
   "outputs": [
    {
     "name": "stdout",
     "output_type": "stream",
     "text": [
      "122/122 [==============================] - 19s 156ms/step - sparse_categorical_accuracy: 0.9165 - student_loss: 0.3430\n"
     ]
    },
    {
     "data": {
      "text/plain": [
       "[0.9164733290672302, 0.22709810733795166]"
      ]
     },
     "execution_count": 79,
     "metadata": {},
     "output_type": "execute_result"
    }
   ],
   "source": [
    "distiller.evaluate(test_byteplots, test_classes)"
   ]
  },
  {
   "cell_type": "code",
   "execution_count": 80,
   "metadata": {},
   "outputs": [
    {
     "name": "stdout",
     "output_type": "stream",
     "text": [
      "122/122 [==============================] - 19s 149ms/step - loss: 0.7356 - sparse_categorical_accuracy: 0.8471\n"
     ]
    },
    {
     "data": {
      "text/plain": [
       "[0.7355527281761169, 0.8471255302429199]"
      ]
     },
     "execution_count": 80,
     "metadata": {},
     "output_type": "execute_result"
    }
   ],
   "source": [
    "student_scratch.evaluate(test_byteplots, test_classes)"
   ]
  }
 ],
 "metadata": {
  "kernelspec": {
   "display_name": "Python 3",
   "language": "python",
   "name": "python3"
  },
  "language_info": {
   "codemirror_mode": {
    "name": "ipython",
    "version": 3
   },
   "file_extension": ".py",
   "mimetype": "text/x-python",
   "name": "python",
   "nbconvert_exporter": "python",
   "pygments_lexer": "ipython3",
   "version": "3.10.3"
  },
  "orig_nbformat": 4
 },
 "nbformat": 4,
 "nbformat_minor": 2
}

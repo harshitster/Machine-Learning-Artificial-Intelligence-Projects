{
 "cells": [
  {
   "cell_type": "code",
   "execution_count": 26,
   "metadata": {},
   "outputs": [],
   "source": [
    "import pandas as pd\n",
    "import numpy as np\n",
    "import os \n",
    "import cv2\n",
    "from sklearn import svm\n",
    "from sklearn.model_selection import GridSearchCV, train_test_split\n",
    "from sklearn.metrics import classification_report, accuracy_score\n",
    "import pickle\n",
    "from tqdm import tqdm\n",
    "import random"
   ]
  },
  {
   "cell_type": "code",
   "execution_count": 27,
   "metadata": {},
   "outputs": [],
   "source": [
    "def load_samples(filename):\n",
    "    data = np.load(filename)\n",
    "    benign, malicious = data['arr_0'], data['arr_1']\n",
    "    benign = benign / 255.0\n",
    "    malicious = malicious / 255.0\n",
    "    return benign, malicious"
   ]
  },
  {
   "cell_type": "code",
   "execution_count": 28,
   "metadata": {},
   "outputs": [],
   "source": [
    "data_file = '/Applications/ML projects/Success/Mal-cGAN/Numpy Dataset/imgs_256_revised.npz'\n",
    "dataset = load_samples(data_file)\n",
    "benign, malicious = dataset"
   ]
  },
  {
   "cell_type": "code",
   "execution_count": 29,
   "metadata": {},
   "outputs": [],
   "source": [
    "samples = np.concatenate((benign, malicious), axis=0)\n",
    "labels = (['benign'] * len(benign)) + (['malicious'] * len(malicious))"
   ]
  },
  {
   "cell_type": "code",
   "execution_count": 30,
   "metadata": {},
   "outputs": [
    {
     "name": "stdout",
     "output_type": "stream",
     "text": [
      "(146, 256, 256, 3) (146,)\n"
     ]
    }
   ],
   "source": [
    "labels = np.array(labels)\n",
    "print(samples.shape, labels.shape)"
   ]
  },
  {
   "cell_type": "code",
   "execution_count": 31,
   "metadata": {},
   "outputs": [],
   "source": [
    "shuffle = np.arange(samples.shape[0])\n",
    "np.random.shuffle(shuffle)\n",
    "samples = samples[shuffle]\n",
    "labels = labels[shuffle]"
   ]
  },
  {
   "cell_type": "code",
   "execution_count": 32,
   "metadata": {},
   "outputs": [],
   "source": [
    "train_size = 0.6\n",
    "pivot = int(train_size * samples.shape[0])"
   ]
  },
  {
   "cell_type": "code",
   "execution_count": 33,
   "metadata": {},
   "outputs": [],
   "source": [
    "bxtrain, bxtest = samples[:pivot], samples[pivot:]\n",
    "bytrain, bytest = labels[:pivot], labels[pivot:]"
   ]
  },
  {
   "cell_type": "code",
   "execution_count": 34,
   "metadata": {},
   "outputs": [],
   "source": [
    "bxtrain = bxtrain.reshape(bxtrain.shape[0], -1)\n",
    "bxtest = bxtest.reshape(bxtest.shape[0], -1)"
   ]
  },
  {
   "cell_type": "code",
   "execution_count": 35,
   "metadata": {},
   "outputs": [
    {
     "name": "stdout",
     "output_type": "stream",
     "text": [
      "(87, 196608) (59, 196608)\n"
     ]
    }
   ],
   "source": [
    "print(bxtrain.shape, bxtest.shape)"
   ]
  },
  {
   "cell_type": "code",
   "execution_count": 36,
   "metadata": {},
   "outputs": [],
   "source": [
    "param_grid = {\n",
    "    'C':[0.1, 1, 10, 100],\n",
    "    'gamma':[0.0001, 0.001, 0.1, 1],\n",
    "    'kernel':['rbf', 'poly']\n",
    "}\n",
    "\n",
    "svc = svm.SVC(probability=True)\n",
    "bmodel = GridSearchCV(svc, param_grid)"
   ]
  },
  {
   "cell_type": "code",
   "execution_count": 37,
   "metadata": {},
   "outputs": [],
   "source": [
    "bhistory = bmodel.fit(bxtrain, bytrain)"
   ]
  },
  {
   "cell_type": "code",
   "execution_count": 39,
   "metadata": {},
   "outputs": [],
   "source": [
    "bmodel_file = '/Applications/ML projects/Success/Mal-cGAN/Models/BlackBox-git.pkl'\n",
    "with open(bmodel_file, 'wb') as file:\n",
    "    pickle.dump(bmodel, file)"
   ]
  },
  {
   "cell_type": "code",
   "execution_count": 40,
   "metadata": {},
   "outputs": [],
   "source": [
    "bmodel_file = '/Applications/ML projects/Success/Mal-cGAN/Models/BlackBox-git.pkl'\n",
    "with open(bmodel_file, 'rb') as file:\n",
    "    blackBox = pickle.load(file)"
   ]
  },
  {
   "cell_type": "code",
   "execution_count": 41,
   "metadata": {},
   "outputs": [
    {
     "data": {
      "text/plain": [
       "86.4406779661017"
      ]
     },
     "execution_count": 41,
     "metadata": {},
     "output_type": "execute_result"
    }
   ],
   "source": [
    "baccuracy = accuracy_score(blackBox.predict(bxtest), bytest)\n",
    "baccuracy * 100"
   ]
  },
  {
   "cell_type": "code",
   "execution_count": 43,
   "metadata": {},
   "outputs": [
    {
     "name": "stdout",
     "output_type": "stream",
     "text": [
      "(61, 256, 256, 3) (170, 256, 256, 3)\n"
     ]
    }
   ],
   "source": [
    "data_file = '/Applications/ML projects/Success/Mal-cGAN/Numpy Dataset/adv_imgs_256.npz'\n",
    "dataset = load_samples(data_file)\n",
    "abenign, amalicious = dataset\n",
    "print(abenign.shape, amalicious.shape)"
   ]
  },
  {
   "cell_type": "code",
   "execution_count": 44,
   "metadata": {},
   "outputs": [],
   "source": [
    "random.shuffle(amalicious)"
   ]
  },
  {
   "cell_type": "code",
   "execution_count": 45,
   "metadata": {},
   "outputs": [],
   "source": [
    "asamples = np.concatenate((abenign, amalicious), axis=0)"
   ]
  },
  {
   "cell_type": "code",
   "execution_count": 46,
   "metadata": {},
   "outputs": [],
   "source": [
    "alabels = np.array((['benign'] * len(abenign)) + (['malicious'] * len(amalicious)))"
   ]
  },
  {
   "cell_type": "code",
   "execution_count": 47,
   "metadata": {},
   "outputs": [],
   "source": [
    "shuffle = np.arange(asamples.shape[0])\n",
    "np.random.shuffle(shuffle)\n",
    "asamples = asamples[shuffle]\n",
    "alabels = alabels[shuffle]"
   ]
  },
  {
   "cell_type": "code",
   "execution_count": 48,
   "metadata": {},
   "outputs": [
    {
     "name": "stdout",
     "output_type": "stream",
     "text": [
      "(231, 256, 256, 3) (231,)\n"
     ]
    }
   ],
   "source": [
    "print(asamples.shape, alabels.shape)"
   ]
  },
  {
   "cell_type": "code",
   "execution_count": 49,
   "metadata": {},
   "outputs": [],
   "source": [
    "atrain_size = 0.60\n",
    "apivot = int(atrain_size * asamples.shape[0])"
   ]
  },
  {
   "cell_type": "code",
   "execution_count": 50,
   "metadata": {},
   "outputs": [],
   "source": [
    "axtrain, axtest = asamples[:apivot], asamples[apivot:]\n",
    "aytrain, aytest = alabels[:apivot], alabels[apivot:]"
   ]
  },
  {
   "cell_type": "code",
   "execution_count": 51,
   "metadata": {},
   "outputs": [],
   "source": [
    "axtrain = axtrain.reshape(axtrain.shape[0], -1)\n",
    "axtest = axtest.reshape(axtest.shape[0], -1)"
   ]
  },
  {
   "cell_type": "code",
   "execution_count": 52,
   "metadata": {},
   "outputs": [
    {
     "name": "stdout",
     "output_type": "stream",
     "text": [
      "(138, 196608)\n"
     ]
    }
   ],
   "source": [
    "print(axtrain.shape)"
   ]
  },
  {
   "cell_type": "code",
   "execution_count": 53,
   "metadata": {},
   "outputs": [],
   "source": [
    "ahistory = blackBox.fit(axtrain, aytrain)"
   ]
  },
  {
   "cell_type": "code",
   "execution_count": 54,
   "metadata": {},
   "outputs": [],
   "source": [
    "amodel_file = '/Applications/ML projects/Success/Mal-cGAN/Models/BlackBox_Adv-git.pkl'\n",
    "with open(amodel_file, 'wb') as file:\n",
    "    pickle.dump(blackBox, file)"
   ]
  },
  {
   "cell_type": "code",
   "execution_count": 55,
   "metadata": {},
   "outputs": [],
   "source": [
    "amodel_file = '/Applications/ML projects/Success/Mal-cGAN/Models/BlackBox_Adv-git.pkl'\n",
    "with open(amodel_file, 'rb') as file:\n",
    "    blackBox_adv = pickle.load(file)"
   ]
  },
  {
   "cell_type": "code",
   "execution_count": 56,
   "metadata": {},
   "outputs": [
    {
     "data": {
      "text/plain": [
       "94.6236559139785"
      ]
     },
     "execution_count": 56,
     "metadata": {},
     "output_type": "execute_result"
    }
   ],
   "source": [
    "aaccuracy = accuracy_score(blackBox_adv.predict(axtest), aytest)\n",
    "aaccuracy * 100"
   ]
  }
 ],
 "metadata": {
  "kernelspec": {
   "display_name": "Python 3",
   "language": "python",
   "name": "python3"
  },
  "language_info": {
   "codemirror_mode": {
    "name": "ipython",
    "version": 3
   },
   "file_extension": ".py",
   "mimetype": "text/x-python",
   "name": "python",
   "nbconvert_exporter": "python",
   "pygments_lexer": "ipython3",
   "version": "3.10.3"
  },
  "orig_nbformat": 4
 },
 "nbformat": 4,
 "nbformat_minor": 2
}

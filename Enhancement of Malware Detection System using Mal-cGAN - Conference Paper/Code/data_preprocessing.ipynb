{
 "cells": [
  {
   "cell_type": "code",
   "execution_count": 1,
   "metadata": {},
   "outputs": [],
   "source": [
    "import os\n",
    "from PIL import Image\n",
    "import matplotlib.pyplot as plt\n",
    "from tqdm import tqdm"
   ]
  },
  {
   "cell_type": "code",
   "execution_count": 2,
   "metadata": {},
   "outputs": [],
   "source": [
    "data_path = '/Applications/ML projects/MalGAN/Dataset/data'\n",
    "new_data_path = '/Applications/ML projects/MalGAN/Dataset/preprocessed-data-revised'\n",
    "Categories = ['benign', 'malicious']"
   ]
  },
  {
   "cell_type": "code",
   "execution_count": 3,
   "metadata": {},
   "outputs": [],
   "source": [
    "if not os.path.exists(new_data_path):\n",
    "    os.makedirs(new_data_path)"
   ]
  },
  {
   "cell_type": "code",
   "execution_count": 4,
   "metadata": {},
   "outputs": [],
   "source": [
    "def crop_image(image_array, left_percent, upper_percent, right_percent, lower_percent):\n",
    "    width, height = image_array.size\n",
    "    left = int(width * left_percent)\n",
    "    upper = int(height * upper_percent)\n",
    "    right = int(width * (1 - right_percent))\n",
    "    lower = int(height * (1 - lower_percent))\n",
    "    cropped_image = image_array.crop((left, upper, right, lower))\n",
    "    return cropped_image"
   ]
  },
  {
   "cell_type": "code",
   "execution_count": 6,
   "metadata": {},
   "outputs": [],
   "source": [
    "sub_type_rest = 'nearest_120'"
   ]
  },
  {
   "cell_type": "code",
   "execution_count": 7,
   "metadata": {},
   "outputs": [
    {
     "name": "stderr",
     "output_type": "stream",
     "text": [
      "  0%|          | 0/2 [00:00<?, ?it/s]"
     ]
    },
    {
     "name": "stderr",
     "output_type": "stream",
     "text": [
      "100%|██████████| 2/2 [00:06<00:00,  3.23s/it]\n"
     ]
    }
   ],
   "source": [
    "left_percent = 0.2\n",
    "upper_percent = 0.2\n",
    "right_percent = 0.1\n",
    "lower_percent = 0.1\n",
    "resize_width, resize_height = 256, 256\n",
    "for type in tqdm(Categories):\n",
    "    type_path = os.path.join(data_path, type)\n",
    "    new_type_path = os.path.join(new_data_path, type)\n",
    "    if not os.path.exists(new_type_path):\n",
    "        os.makedirs(new_type_path)\n",
    "    for sub_type in os.listdir(type_path):\n",
    "        if sub_type == 'log.csv' or sub_type == '.DS_Store':\n",
    "            continue\n",
    "        if sub_type != sub_type_rest:\n",
    "            continue\n",
    "        sub_type_path = os.path.join(type_path, sub_type)\n",
    "        for image in os.listdir(sub_type_path):\n",
    "            image_array = Image.open(os.path.join(sub_type_path, image))\n",
    "            cropped_image = crop_image(image_array, left_percent, upper_percent, right_percent, lower_percent)\n",
    "            resized_image = cropped_image.resize((resize_width, resize_height))\n",
    "            new_image_path = os.path.join(new_type_path, image)\n",
    "            resized_image.save(new_image_path)"
   ]
  }
 ],
 "metadata": {
  "kernelspec": {
   "display_name": "Python 3",
   "language": "python",
   "name": "python3"
  },
  "language_info": {
   "codemirror_mode": {
    "name": "ipython",
    "version": 3
   },
   "file_extension": ".py",
   "mimetype": "text/x-python",
   "name": "python",
   "nbconvert_exporter": "python",
   "pygments_lexer": "ipython3",
   "version": "3.10.3"
  },
  "orig_nbformat": 4
 },
 "nbformat": 4,
 "nbformat_minor": 2
}

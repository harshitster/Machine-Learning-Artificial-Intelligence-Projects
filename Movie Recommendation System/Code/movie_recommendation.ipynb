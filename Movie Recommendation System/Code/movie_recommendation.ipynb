{
  "nbformat": 4,
  "nbformat_minor": 0,
  "metadata": {
    "colab": {
      "provenance": []
    },
    "kernelspec": {
      "name": "python3",
      "display_name": "Python 3"
    },
    "language_info": {
      "name": "python"
    }
  },
  "cells": [
    {
      "cell_type": "code",
      "execution_count": 88,
      "metadata": {
        "id": "VhijHCmK6v_6",
        "colab": {
          "base_uri": "https://localhost:8080/"
        },
        "outputId": "68fabc35-34cf-4512-c60c-e8e5ec405761"
      },
      "outputs": [
        {
          "output_type": "stream",
          "name": "stdout",
          "text": [
            "Drive already mounted at /content/drive; to attempt to forcibly remount, call drive.mount(\"/content/drive\", force_remount=True).\n"
          ]
        }
      ],
      "source": [
        "from google.colab import drive\n",
        "drive.mount('/content/drive')"
      ]
    },
    {
      "cell_type": "markdown",
      "source": [
        "Import Libraries"
      ],
      "metadata": {
        "id": "KD_smm7VxmZW"
      }
    },
    {
      "cell_type": "code",
      "source": [
        "import pandas as pd\n",
        "import numpy as np\n",
        "import matplotlib.pyplot as plt\n",
        "import missingno as mso"
      ],
      "metadata": {
        "id": "8NtTv1AExfn4"
      },
      "execution_count": 89,
      "outputs": []
    },
    {
      "cell_type": "markdown",
      "source": [
        "Import Titles"
      ],
      "metadata": {
        "id": "Hq6KfE_Sx3Oe"
      }
    },
    {
      "cell_type": "code",
      "source": [
        "paramount_titles = pd.read_csv('/content/drive/MyDrive/ML datasets/mrs/archive/titles.csv')\n",
        "disney_titles = pd.read_csv('/content/drive/MyDrive/ML datasets/mrs/archive-2/titles.csv')\n",
        "appletv_titles = pd.read_csv('/content/drive/MyDrive/ML datasets/mrs/archive-3/titles.csv')\n",
        "amazonprime_titles = pd.read_csv('/content/drive/MyDrive/ML datasets/mrs/archive-4/titles.csv')\n",
        "hbo_titles = pd.read_csv('/content/drive/MyDrive/ML datasets/mrs/archive-5/titles.csv')\n",
        "netflix_titles = pd.read_csv('/content/drive/MyDrive/ML datasets/mrs/archive-6/titles.csv')"
      ],
      "metadata": {
        "id": "5hW3OvHnx2PW"
      },
      "execution_count": 90,
      "outputs": []
    },
    {
      "cell_type": "markdown",
      "source": [
        "Concatenation"
      ],
      "metadata": {
        "id": "y-m1Uv5VyzaB"
      }
    },
    {
      "cell_type": "code",
      "source": [
        "titles = pd.concat([paramount_titles, disney_titles, appletv_titles, amazonprime_titles, hbo_titles, netflix_titles], axis=0).reset_index()\n",
        "titles.drop(['index'], axis=1, inplace=True)"
      ],
      "metadata": {
        "id": "u3FGJpZKyxa9"
      },
      "execution_count": 91,
      "outputs": []
    },
    {
      "cell_type": "code",
      "source": [
        "titles[titles.duplicated() == True].head(5)"
      ],
      "metadata": {
        "colab": {
          "base_uri": "https://localhost:8080/",
          "height": 452
        },
        "id": "Lmbt9zGOzMsk",
        "outputId": "72f710dd-fe20-4479-8d7e-a9274e2d015c"
      },
      "execution_count": 92,
      "outputs": [
        {
          "output_type": "execute_result",
          "data": {
            "text/plain": [
              "             id                          title   type  \\\n",
              "3490     ts6600                           Doug   SHOW   \n",
              "4088   tm145734          Planes: Fire & Rescue  MOVIE   \n",
              "4257    ts70709               China From Above   SHOW   \n",
              "5033  tm1075680  World's Most Dangerous Shark?  MOVIE   \n",
              "5046   tm134144                The Italian Job  MOVIE   \n",
              "\n",
              "                                            description  release_year  \\\n",
              "3490  Doug Funnie experiences common predicaments wh...          1991   \n",
              "4088  When world-famous air racer Dusty learns that ...          2014   \n",
              "4257  China is a land of immense scale and diversity...          2015   \n",
              "5033  The Great White has a scary reputation, but Ex...          2023   \n",
              "5046  Charlie Croker pulled off the crime of a lifet...          2003   \n",
              "\n",
              "     age_certification  runtime  \\\n",
              "3490             TV-Y7       24   \n",
              "4088                PG       83   \n",
              "4257             TV-PG       44   \n",
              "5033             PG-13       44   \n",
              "5046             PG-13      111   \n",
              "\n",
              "                                                 genres production_countries  \\\n",
              "3490  ['animation', 'comedy', 'drama', 'family', 'fa...               ['US']   \n",
              "4088  ['comedy', 'documentation', 'family', 'sport',...               ['US']   \n",
              "4257                                  ['documentation']               ['US']   \n",
              "5033                                  ['documentation']                   []   \n",
              "5046                    ['action', 'crime', 'thriller']   ['IT', 'GB', 'US']   \n",
              "\n",
              "      seasons     imdb_id  imdb_score  imdb_votes  tmdb_popularity  tmdb_score  \n",
              "3490      8.0  tt10422382         7.4     19367.0           34.717       7.300  \n",
              "4088      NaN   tt2980706         6.0     17741.0           27.623       6.100  \n",
              "4257      2.0   tt4872012         7.8       121.0            1.984       5.200  \n",
              "5033      NaN         NaN         NaN         NaN            1.623         NaN  \n",
              "5046      NaN   tt0317740         7.0    374255.0           22.235       6.752  "
            ],
            "text/html": [
              "\n",
              "  <div id=\"df-4e3b07f8-9036-4a51-94cb-6cb225d00c53\">\n",
              "    <div class=\"colab-df-container\">\n",
              "      <div>\n",
              "<style scoped>\n",
              "    .dataframe tbody tr th:only-of-type {\n",
              "        vertical-align: middle;\n",
              "    }\n",
              "\n",
              "    .dataframe tbody tr th {\n",
              "        vertical-align: top;\n",
              "    }\n",
              "\n",
              "    .dataframe thead th {\n",
              "        text-align: right;\n",
              "    }\n",
              "</style>\n",
              "<table border=\"1\" class=\"dataframe\">\n",
              "  <thead>\n",
              "    <tr style=\"text-align: right;\">\n",
              "      <th></th>\n",
              "      <th>id</th>\n",
              "      <th>title</th>\n",
              "      <th>type</th>\n",
              "      <th>description</th>\n",
              "      <th>release_year</th>\n",
              "      <th>age_certification</th>\n",
              "      <th>runtime</th>\n",
              "      <th>genres</th>\n",
              "      <th>production_countries</th>\n",
              "      <th>seasons</th>\n",
              "      <th>imdb_id</th>\n",
              "      <th>imdb_score</th>\n",
              "      <th>imdb_votes</th>\n",
              "      <th>tmdb_popularity</th>\n",
              "      <th>tmdb_score</th>\n",
              "    </tr>\n",
              "  </thead>\n",
              "  <tbody>\n",
              "    <tr>\n",
              "      <th>3490</th>\n",
              "      <td>ts6600</td>\n",
              "      <td>Doug</td>\n",
              "      <td>SHOW</td>\n",
              "      <td>Doug Funnie experiences common predicaments wh...</td>\n",
              "      <td>1991</td>\n",
              "      <td>TV-Y7</td>\n",
              "      <td>24</td>\n",
              "      <td>['animation', 'comedy', 'drama', 'family', 'fa...</td>\n",
              "      <td>['US']</td>\n",
              "      <td>8.0</td>\n",
              "      <td>tt10422382</td>\n",
              "      <td>7.4</td>\n",
              "      <td>19367.0</td>\n",
              "      <td>34.717</td>\n",
              "      <td>7.300</td>\n",
              "    </tr>\n",
              "    <tr>\n",
              "      <th>4088</th>\n",
              "      <td>tm145734</td>\n",
              "      <td>Planes: Fire &amp; Rescue</td>\n",
              "      <td>MOVIE</td>\n",
              "      <td>When world-famous air racer Dusty learns that ...</td>\n",
              "      <td>2014</td>\n",
              "      <td>PG</td>\n",
              "      <td>83</td>\n",
              "      <td>['comedy', 'documentation', 'family', 'sport',...</td>\n",
              "      <td>['US']</td>\n",
              "      <td>NaN</td>\n",
              "      <td>tt2980706</td>\n",
              "      <td>6.0</td>\n",
              "      <td>17741.0</td>\n",
              "      <td>27.623</td>\n",
              "      <td>6.100</td>\n",
              "    </tr>\n",
              "    <tr>\n",
              "      <th>4257</th>\n",
              "      <td>ts70709</td>\n",
              "      <td>China From Above</td>\n",
              "      <td>SHOW</td>\n",
              "      <td>China is a land of immense scale and diversity...</td>\n",
              "      <td>2015</td>\n",
              "      <td>TV-PG</td>\n",
              "      <td>44</td>\n",
              "      <td>['documentation']</td>\n",
              "      <td>['US']</td>\n",
              "      <td>2.0</td>\n",
              "      <td>tt4872012</td>\n",
              "      <td>7.8</td>\n",
              "      <td>121.0</td>\n",
              "      <td>1.984</td>\n",
              "      <td>5.200</td>\n",
              "    </tr>\n",
              "    <tr>\n",
              "      <th>5033</th>\n",
              "      <td>tm1075680</td>\n",
              "      <td>World's Most Dangerous Shark?</td>\n",
              "      <td>MOVIE</td>\n",
              "      <td>The Great White has a scary reputation, but Ex...</td>\n",
              "      <td>2023</td>\n",
              "      <td>PG-13</td>\n",
              "      <td>44</td>\n",
              "      <td>['documentation']</td>\n",
              "      <td>[]</td>\n",
              "      <td>NaN</td>\n",
              "      <td>NaN</td>\n",
              "      <td>NaN</td>\n",
              "      <td>NaN</td>\n",
              "      <td>1.623</td>\n",
              "      <td>NaN</td>\n",
              "    </tr>\n",
              "    <tr>\n",
              "      <th>5046</th>\n",
              "      <td>tm134144</td>\n",
              "      <td>The Italian Job</td>\n",
              "      <td>MOVIE</td>\n",
              "      <td>Charlie Croker pulled off the crime of a lifet...</td>\n",
              "      <td>2003</td>\n",
              "      <td>PG-13</td>\n",
              "      <td>111</td>\n",
              "      <td>['action', 'crime', 'thriller']</td>\n",
              "      <td>['IT', 'GB', 'US']</td>\n",
              "      <td>NaN</td>\n",
              "      <td>tt0317740</td>\n",
              "      <td>7.0</td>\n",
              "      <td>374255.0</td>\n",
              "      <td>22.235</td>\n",
              "      <td>6.752</td>\n",
              "    </tr>\n",
              "  </tbody>\n",
              "</table>\n",
              "</div>\n",
              "      <button class=\"colab-df-convert\" onclick=\"convertToInteractive('df-4e3b07f8-9036-4a51-94cb-6cb225d00c53')\"\n",
              "              title=\"Convert this dataframe to an interactive table.\"\n",
              "              style=\"display:none;\">\n",
              "        \n",
              "  <svg xmlns=\"http://www.w3.org/2000/svg\" height=\"24px\"viewBox=\"0 0 24 24\"\n",
              "       width=\"24px\">\n",
              "    <path d=\"M0 0h24v24H0V0z\" fill=\"none\"/>\n",
              "    <path d=\"M18.56 5.44l.94 2.06.94-2.06 2.06-.94-2.06-.94-.94-2.06-.94 2.06-2.06.94zm-11 1L8.5 8.5l.94-2.06 2.06-.94-2.06-.94L8.5 2.5l-.94 2.06-2.06.94zm10 10l.94 2.06.94-2.06 2.06-.94-2.06-.94-.94-2.06-.94 2.06-2.06.94z\"/><path d=\"M17.41 7.96l-1.37-1.37c-.4-.4-.92-.59-1.43-.59-.52 0-1.04.2-1.43.59L10.3 9.45l-7.72 7.72c-.78.78-.78 2.05 0 2.83L4 21.41c.39.39.9.59 1.41.59.51 0 1.02-.2 1.41-.59l7.78-7.78 2.81-2.81c.8-.78.8-2.07 0-2.86zM5.41 20L4 18.59l7.72-7.72 1.47 1.35L5.41 20z\"/>\n",
              "  </svg>\n",
              "      </button>\n",
              "      \n",
              "  <style>\n",
              "    .colab-df-container {\n",
              "      display:flex;\n",
              "      flex-wrap:wrap;\n",
              "      gap: 12px;\n",
              "    }\n",
              "\n",
              "    .colab-df-convert {\n",
              "      background-color: #E8F0FE;\n",
              "      border: none;\n",
              "      border-radius: 50%;\n",
              "      cursor: pointer;\n",
              "      display: none;\n",
              "      fill: #1967D2;\n",
              "      height: 32px;\n",
              "      padding: 0 0 0 0;\n",
              "      width: 32px;\n",
              "    }\n",
              "\n",
              "    .colab-df-convert:hover {\n",
              "      background-color: #E2EBFA;\n",
              "      box-shadow: 0px 1px 2px rgba(60, 64, 67, 0.3), 0px 1px 3px 1px rgba(60, 64, 67, 0.15);\n",
              "      fill: #174EA6;\n",
              "    }\n",
              "\n",
              "    [theme=dark] .colab-df-convert {\n",
              "      background-color: #3B4455;\n",
              "      fill: #D2E3FC;\n",
              "    }\n",
              "\n",
              "    [theme=dark] .colab-df-convert:hover {\n",
              "      background-color: #434B5C;\n",
              "      box-shadow: 0px 1px 3px 1px rgba(0, 0, 0, 0.15);\n",
              "      filter: drop-shadow(0px 1px 2px rgba(0, 0, 0, 0.3));\n",
              "      fill: #FFFFFF;\n",
              "    }\n",
              "  </style>\n",
              "\n",
              "      <script>\n",
              "        const buttonEl =\n",
              "          document.querySelector('#df-4e3b07f8-9036-4a51-94cb-6cb225d00c53 button.colab-df-convert');\n",
              "        buttonEl.style.display =\n",
              "          google.colab.kernel.accessAllowed ? 'block' : 'none';\n",
              "\n",
              "        async function convertToInteractive(key) {\n",
              "          const element = document.querySelector('#df-4e3b07f8-9036-4a51-94cb-6cb225d00c53');\n",
              "          const dataTable =\n",
              "            await google.colab.kernel.invokeFunction('convertToInteractive',\n",
              "                                                     [key], {});\n",
              "          if (!dataTable) return;\n",
              "\n",
              "          const docLinkHtml = 'Like what you see? Visit the ' +\n",
              "            '<a target=\"_blank\" href=https://colab.research.google.com/notebooks/data_table.ipynb>data table notebook</a>'\n",
              "            + ' to learn more about interactive tables.';\n",
              "          element.innerHTML = '';\n",
              "          dataTable['output_type'] = 'display_data';\n",
              "          await google.colab.output.renderOutput(dataTable, element);\n",
              "          const docLink = document.createElement('div');\n",
              "          docLink.innerHTML = docLinkHtml;\n",
              "          element.appendChild(docLink);\n",
              "        }\n",
              "      </script>\n",
              "    </div>\n",
              "  </div>\n",
              "  "
            ]
          },
          "metadata": {},
          "execution_count": 92
        }
      ]
    },
    {
      "cell_type": "code",
      "source": [
        "titles.drop_duplicates(inplace=True)"
      ],
      "metadata": {
        "id": "QpciH2PvzVfa"
      },
      "execution_count": 93,
      "outputs": []
    },
    {
      "cell_type": "code",
      "source": [
        "titles.head()"
      ],
      "metadata": {
        "colab": {
          "base_uri": "https://localhost:8080/",
          "height": 384
        },
        "id": "4d9nT_0Kzdj-",
        "outputId": "7a0587ee-fdf3-4996-c88e-5a79e7fec48e"
      },
      "execution_count": 94,
      "outputs": [
        {
          "output_type": "execute_result",
          "data": {
            "text/plain": [
              "         id             title   type  \\\n",
              "0   tm65789  Sunset Boulevard  MOVIE   \n",
              "1   tm83884   His Girl Friday  MOVIE   \n",
              "2    tm5012         Red River  MOVIE   \n",
              "3   tm19248       The General  MOVIE   \n",
              "4  tm122846           The Kid  MOVIE   \n",
              "\n",
              "                                         description  release_year  \\\n",
              "0  A hack screenwriter writes a screenplay for a ...          1950   \n",
              "1  Hildy, the journalist former wife of newspaper...          1940   \n",
              "2  Headstrong Thomas Dunson starts a thriving Tex...          1948   \n",
              "3  During America’s Civil War, Union spies steal ...          1926   \n",
              "4  A tramp cares for a boy after he's abandoned a...          1921   \n",
              "\n",
              "  age_certification  runtime  \\\n",
              "0                PG      110   \n",
              "1               NaN       92   \n",
              "2               NaN      133   \n",
              "3               NaN       79   \n",
              "4               NaN       68   \n",
              "\n",
              "                                              genres production_countries  \\\n",
              "0                                          ['drama']               ['US']   \n",
              "1                     ['drama', 'romance', 'comedy']               ['US']   \n",
              "2          ['western', 'drama', 'romance', 'action']               ['US']   \n",
              "3  ['comedy', 'drama', 'action', 'war', 'western'...               ['US']   \n",
              "4                      ['comedy', 'drama', 'family']               ['US']   \n",
              "\n",
              "   seasons    imdb_id  imdb_score  imdb_votes  tmdb_popularity  tmdb_score  \n",
              "0      NaN  tt0043014         8.4    224704.0           18.431       8.366  \n",
              "1      NaN  tt0032599         7.8     60244.0           14.759       7.433  \n",
              "2      NaN  tt0040724         7.8     32210.0           12.400       7.400  \n",
              "3      NaN  tt0017925         8.1     92935.0           12.316       8.009  \n",
              "4      NaN  tt0012349         8.3    128096.0           14.865       8.212  "
            ],
            "text/html": [
              "\n",
              "  <div id=\"df-fcec558d-bb3b-402d-b232-01eae851883a\">\n",
              "    <div class=\"colab-df-container\">\n",
              "      <div>\n",
              "<style scoped>\n",
              "    .dataframe tbody tr th:only-of-type {\n",
              "        vertical-align: middle;\n",
              "    }\n",
              "\n",
              "    .dataframe tbody tr th {\n",
              "        vertical-align: top;\n",
              "    }\n",
              "\n",
              "    .dataframe thead th {\n",
              "        text-align: right;\n",
              "    }\n",
              "</style>\n",
              "<table border=\"1\" class=\"dataframe\">\n",
              "  <thead>\n",
              "    <tr style=\"text-align: right;\">\n",
              "      <th></th>\n",
              "      <th>id</th>\n",
              "      <th>title</th>\n",
              "      <th>type</th>\n",
              "      <th>description</th>\n",
              "      <th>release_year</th>\n",
              "      <th>age_certification</th>\n",
              "      <th>runtime</th>\n",
              "      <th>genres</th>\n",
              "      <th>production_countries</th>\n",
              "      <th>seasons</th>\n",
              "      <th>imdb_id</th>\n",
              "      <th>imdb_score</th>\n",
              "      <th>imdb_votes</th>\n",
              "      <th>tmdb_popularity</th>\n",
              "      <th>tmdb_score</th>\n",
              "    </tr>\n",
              "  </thead>\n",
              "  <tbody>\n",
              "    <tr>\n",
              "      <th>0</th>\n",
              "      <td>tm65789</td>\n",
              "      <td>Sunset Boulevard</td>\n",
              "      <td>MOVIE</td>\n",
              "      <td>A hack screenwriter writes a screenplay for a ...</td>\n",
              "      <td>1950</td>\n",
              "      <td>PG</td>\n",
              "      <td>110</td>\n",
              "      <td>['drama']</td>\n",
              "      <td>['US']</td>\n",
              "      <td>NaN</td>\n",
              "      <td>tt0043014</td>\n",
              "      <td>8.4</td>\n",
              "      <td>224704.0</td>\n",
              "      <td>18.431</td>\n",
              "      <td>8.366</td>\n",
              "    </tr>\n",
              "    <tr>\n",
              "      <th>1</th>\n",
              "      <td>tm83884</td>\n",
              "      <td>His Girl Friday</td>\n",
              "      <td>MOVIE</td>\n",
              "      <td>Hildy, the journalist former wife of newspaper...</td>\n",
              "      <td>1940</td>\n",
              "      <td>NaN</td>\n",
              "      <td>92</td>\n",
              "      <td>['drama', 'romance', 'comedy']</td>\n",
              "      <td>['US']</td>\n",
              "      <td>NaN</td>\n",
              "      <td>tt0032599</td>\n",
              "      <td>7.8</td>\n",
              "      <td>60244.0</td>\n",
              "      <td>14.759</td>\n",
              "      <td>7.433</td>\n",
              "    </tr>\n",
              "    <tr>\n",
              "      <th>2</th>\n",
              "      <td>tm5012</td>\n",
              "      <td>Red River</td>\n",
              "      <td>MOVIE</td>\n",
              "      <td>Headstrong Thomas Dunson starts a thriving Tex...</td>\n",
              "      <td>1948</td>\n",
              "      <td>NaN</td>\n",
              "      <td>133</td>\n",
              "      <td>['western', 'drama', 'romance', 'action']</td>\n",
              "      <td>['US']</td>\n",
              "      <td>NaN</td>\n",
              "      <td>tt0040724</td>\n",
              "      <td>7.8</td>\n",
              "      <td>32210.0</td>\n",
              "      <td>12.400</td>\n",
              "      <td>7.400</td>\n",
              "    </tr>\n",
              "    <tr>\n",
              "      <th>3</th>\n",
              "      <td>tm19248</td>\n",
              "      <td>The General</td>\n",
              "      <td>MOVIE</td>\n",
              "      <td>During America’s Civil War, Union spies steal ...</td>\n",
              "      <td>1926</td>\n",
              "      <td>NaN</td>\n",
              "      <td>79</td>\n",
              "      <td>['comedy', 'drama', 'action', 'war', 'western'...</td>\n",
              "      <td>['US']</td>\n",
              "      <td>NaN</td>\n",
              "      <td>tt0017925</td>\n",
              "      <td>8.1</td>\n",
              "      <td>92935.0</td>\n",
              "      <td>12.316</td>\n",
              "      <td>8.009</td>\n",
              "    </tr>\n",
              "    <tr>\n",
              "      <th>4</th>\n",
              "      <td>tm122846</td>\n",
              "      <td>The Kid</td>\n",
              "      <td>MOVIE</td>\n",
              "      <td>A tramp cares for a boy after he's abandoned a...</td>\n",
              "      <td>1921</td>\n",
              "      <td>NaN</td>\n",
              "      <td>68</td>\n",
              "      <td>['comedy', 'drama', 'family']</td>\n",
              "      <td>['US']</td>\n",
              "      <td>NaN</td>\n",
              "      <td>tt0012349</td>\n",
              "      <td>8.3</td>\n",
              "      <td>128096.0</td>\n",
              "      <td>14.865</td>\n",
              "      <td>8.212</td>\n",
              "    </tr>\n",
              "  </tbody>\n",
              "</table>\n",
              "</div>\n",
              "      <button class=\"colab-df-convert\" onclick=\"convertToInteractive('df-fcec558d-bb3b-402d-b232-01eae851883a')\"\n",
              "              title=\"Convert this dataframe to an interactive table.\"\n",
              "              style=\"display:none;\">\n",
              "        \n",
              "  <svg xmlns=\"http://www.w3.org/2000/svg\" height=\"24px\"viewBox=\"0 0 24 24\"\n",
              "       width=\"24px\">\n",
              "    <path d=\"M0 0h24v24H0V0z\" fill=\"none\"/>\n",
              "    <path d=\"M18.56 5.44l.94 2.06.94-2.06 2.06-.94-2.06-.94-.94-2.06-.94 2.06-2.06.94zm-11 1L8.5 8.5l.94-2.06 2.06-.94-2.06-.94L8.5 2.5l-.94 2.06-2.06.94zm10 10l.94 2.06.94-2.06 2.06-.94-2.06-.94-.94-2.06-.94 2.06-2.06.94z\"/><path d=\"M17.41 7.96l-1.37-1.37c-.4-.4-.92-.59-1.43-.59-.52 0-1.04.2-1.43.59L10.3 9.45l-7.72 7.72c-.78.78-.78 2.05 0 2.83L4 21.41c.39.39.9.59 1.41.59.51 0 1.02-.2 1.41-.59l7.78-7.78 2.81-2.81c.8-.78.8-2.07 0-2.86zM5.41 20L4 18.59l7.72-7.72 1.47 1.35L5.41 20z\"/>\n",
              "  </svg>\n",
              "      </button>\n",
              "      \n",
              "  <style>\n",
              "    .colab-df-container {\n",
              "      display:flex;\n",
              "      flex-wrap:wrap;\n",
              "      gap: 12px;\n",
              "    }\n",
              "\n",
              "    .colab-df-convert {\n",
              "      background-color: #E8F0FE;\n",
              "      border: none;\n",
              "      border-radius: 50%;\n",
              "      cursor: pointer;\n",
              "      display: none;\n",
              "      fill: #1967D2;\n",
              "      height: 32px;\n",
              "      padding: 0 0 0 0;\n",
              "      width: 32px;\n",
              "    }\n",
              "\n",
              "    .colab-df-convert:hover {\n",
              "      background-color: #E2EBFA;\n",
              "      box-shadow: 0px 1px 2px rgba(60, 64, 67, 0.3), 0px 1px 3px 1px rgba(60, 64, 67, 0.15);\n",
              "      fill: #174EA6;\n",
              "    }\n",
              "\n",
              "    [theme=dark] .colab-df-convert {\n",
              "      background-color: #3B4455;\n",
              "      fill: #D2E3FC;\n",
              "    }\n",
              "\n",
              "    [theme=dark] .colab-df-convert:hover {\n",
              "      background-color: #434B5C;\n",
              "      box-shadow: 0px 1px 3px 1px rgba(0, 0, 0, 0.15);\n",
              "      filter: drop-shadow(0px 1px 2px rgba(0, 0, 0, 0.3));\n",
              "      fill: #FFFFFF;\n",
              "    }\n",
              "  </style>\n",
              "\n",
              "      <script>\n",
              "        const buttonEl =\n",
              "          document.querySelector('#df-fcec558d-bb3b-402d-b232-01eae851883a button.colab-df-convert');\n",
              "        buttonEl.style.display =\n",
              "          google.colab.kernel.accessAllowed ? 'block' : 'none';\n",
              "\n",
              "        async function convertToInteractive(key) {\n",
              "          const element = document.querySelector('#df-fcec558d-bb3b-402d-b232-01eae851883a');\n",
              "          const dataTable =\n",
              "            await google.colab.kernel.invokeFunction('convertToInteractive',\n",
              "                                                     [key], {});\n",
              "          if (!dataTable) return;\n",
              "\n",
              "          const docLinkHtml = 'Like what you see? Visit the ' +\n",
              "            '<a target=\"_blank\" href=https://colab.research.google.com/notebooks/data_table.ipynb>data table notebook</a>'\n",
              "            + ' to learn more about interactive tables.';\n",
              "          element.innerHTML = '';\n",
              "          dataTable['output_type'] = 'display_data';\n",
              "          await google.colab.output.renderOutput(dataTable, element);\n",
              "          const docLink = document.createElement('div');\n",
              "          docLink.innerHTML = docLinkHtml;\n",
              "          element.appendChild(docLink);\n",
              "        }\n",
              "      </script>\n",
              "    </div>\n",
              "  </div>\n",
              "  "
            ]
          },
          "metadata": {},
          "execution_count": 94
        }
      ]
    },
    {
      "cell_type": "markdown",
      "source": [
        "Filter Movies"
      ],
      "metadata": {
        "id": "Nzngk-WdzkEv"
      }
    },
    {
      "cell_type": "code",
      "source": [
        "movies = titles[titles['type'] == 'MOVIE'].copy().reset_index()\n",
        "movies.drop(['index'], axis=1, inplace=True)"
      ],
      "metadata": {
        "id": "2XnhRwv8zesX"
      },
      "execution_count": 95,
      "outputs": []
    },
    {
      "cell_type": "code",
      "source": [
        "movies = movies.drop(['seasons'], axis=1)"
      ],
      "metadata": {
        "id": "GX5GluXI0ouS"
      },
      "execution_count": 96,
      "outputs": []
    },
    {
      "cell_type": "code",
      "source": [
        "movies.head()"
      ],
      "metadata": {
        "colab": {
          "base_uri": "https://localhost:8080/",
          "height": 333
        },
        "id": "jE0aMuho019W",
        "outputId": "526a6737-f656-40a4-bc6b-78cc13473b03"
      },
      "execution_count": 97,
      "outputs": [
        {
          "output_type": "execute_result",
          "data": {
            "text/plain": [
              "         id             title   type  \\\n",
              "0   tm65789  Sunset Boulevard  MOVIE   \n",
              "1   tm83884   His Girl Friday  MOVIE   \n",
              "2    tm5012         Red River  MOVIE   \n",
              "3   tm19248       The General  MOVIE   \n",
              "4  tm122846           The Kid  MOVIE   \n",
              "\n",
              "                                         description  release_year  \\\n",
              "0  A hack screenwriter writes a screenplay for a ...          1950   \n",
              "1  Hildy, the journalist former wife of newspaper...          1940   \n",
              "2  Headstrong Thomas Dunson starts a thriving Tex...          1948   \n",
              "3  During America’s Civil War, Union spies steal ...          1926   \n",
              "4  A tramp cares for a boy after he's abandoned a...          1921   \n",
              "\n",
              "  age_certification  runtime  \\\n",
              "0                PG      110   \n",
              "1               NaN       92   \n",
              "2               NaN      133   \n",
              "3               NaN       79   \n",
              "4               NaN       68   \n",
              "\n",
              "                                              genres production_countries  \\\n",
              "0                                          ['drama']               ['US']   \n",
              "1                     ['drama', 'romance', 'comedy']               ['US']   \n",
              "2          ['western', 'drama', 'romance', 'action']               ['US']   \n",
              "3  ['comedy', 'drama', 'action', 'war', 'western'...               ['US']   \n",
              "4                      ['comedy', 'drama', 'family']               ['US']   \n",
              "\n",
              "     imdb_id  imdb_score  imdb_votes  tmdb_popularity  tmdb_score  \n",
              "0  tt0043014         8.4    224704.0           18.431       8.366  \n",
              "1  tt0032599         7.8     60244.0           14.759       7.433  \n",
              "2  tt0040724         7.8     32210.0           12.400       7.400  \n",
              "3  tt0017925         8.1     92935.0           12.316       8.009  \n",
              "4  tt0012349         8.3    128096.0           14.865       8.212  "
            ],
            "text/html": [
              "\n",
              "  <div id=\"df-21cb41a4-612f-44c9-8c17-4fe438ad6c92\">\n",
              "    <div class=\"colab-df-container\">\n",
              "      <div>\n",
              "<style scoped>\n",
              "    .dataframe tbody tr th:only-of-type {\n",
              "        vertical-align: middle;\n",
              "    }\n",
              "\n",
              "    .dataframe tbody tr th {\n",
              "        vertical-align: top;\n",
              "    }\n",
              "\n",
              "    .dataframe thead th {\n",
              "        text-align: right;\n",
              "    }\n",
              "</style>\n",
              "<table border=\"1\" class=\"dataframe\">\n",
              "  <thead>\n",
              "    <tr style=\"text-align: right;\">\n",
              "      <th></th>\n",
              "      <th>id</th>\n",
              "      <th>title</th>\n",
              "      <th>type</th>\n",
              "      <th>description</th>\n",
              "      <th>release_year</th>\n",
              "      <th>age_certification</th>\n",
              "      <th>runtime</th>\n",
              "      <th>genres</th>\n",
              "      <th>production_countries</th>\n",
              "      <th>imdb_id</th>\n",
              "      <th>imdb_score</th>\n",
              "      <th>imdb_votes</th>\n",
              "      <th>tmdb_popularity</th>\n",
              "      <th>tmdb_score</th>\n",
              "    </tr>\n",
              "  </thead>\n",
              "  <tbody>\n",
              "    <tr>\n",
              "      <th>0</th>\n",
              "      <td>tm65789</td>\n",
              "      <td>Sunset Boulevard</td>\n",
              "      <td>MOVIE</td>\n",
              "      <td>A hack screenwriter writes a screenplay for a ...</td>\n",
              "      <td>1950</td>\n",
              "      <td>PG</td>\n",
              "      <td>110</td>\n",
              "      <td>['drama']</td>\n",
              "      <td>['US']</td>\n",
              "      <td>tt0043014</td>\n",
              "      <td>8.4</td>\n",
              "      <td>224704.0</td>\n",
              "      <td>18.431</td>\n",
              "      <td>8.366</td>\n",
              "    </tr>\n",
              "    <tr>\n",
              "      <th>1</th>\n",
              "      <td>tm83884</td>\n",
              "      <td>His Girl Friday</td>\n",
              "      <td>MOVIE</td>\n",
              "      <td>Hildy, the journalist former wife of newspaper...</td>\n",
              "      <td>1940</td>\n",
              "      <td>NaN</td>\n",
              "      <td>92</td>\n",
              "      <td>['drama', 'romance', 'comedy']</td>\n",
              "      <td>['US']</td>\n",
              "      <td>tt0032599</td>\n",
              "      <td>7.8</td>\n",
              "      <td>60244.0</td>\n",
              "      <td>14.759</td>\n",
              "      <td>7.433</td>\n",
              "    </tr>\n",
              "    <tr>\n",
              "      <th>2</th>\n",
              "      <td>tm5012</td>\n",
              "      <td>Red River</td>\n",
              "      <td>MOVIE</td>\n",
              "      <td>Headstrong Thomas Dunson starts a thriving Tex...</td>\n",
              "      <td>1948</td>\n",
              "      <td>NaN</td>\n",
              "      <td>133</td>\n",
              "      <td>['western', 'drama', 'romance', 'action']</td>\n",
              "      <td>['US']</td>\n",
              "      <td>tt0040724</td>\n",
              "      <td>7.8</td>\n",
              "      <td>32210.0</td>\n",
              "      <td>12.400</td>\n",
              "      <td>7.400</td>\n",
              "    </tr>\n",
              "    <tr>\n",
              "      <th>3</th>\n",
              "      <td>tm19248</td>\n",
              "      <td>The General</td>\n",
              "      <td>MOVIE</td>\n",
              "      <td>During America’s Civil War, Union spies steal ...</td>\n",
              "      <td>1926</td>\n",
              "      <td>NaN</td>\n",
              "      <td>79</td>\n",
              "      <td>['comedy', 'drama', 'action', 'war', 'western'...</td>\n",
              "      <td>['US']</td>\n",
              "      <td>tt0017925</td>\n",
              "      <td>8.1</td>\n",
              "      <td>92935.0</td>\n",
              "      <td>12.316</td>\n",
              "      <td>8.009</td>\n",
              "    </tr>\n",
              "    <tr>\n",
              "      <th>4</th>\n",
              "      <td>tm122846</td>\n",
              "      <td>The Kid</td>\n",
              "      <td>MOVIE</td>\n",
              "      <td>A tramp cares for a boy after he's abandoned a...</td>\n",
              "      <td>1921</td>\n",
              "      <td>NaN</td>\n",
              "      <td>68</td>\n",
              "      <td>['comedy', 'drama', 'family']</td>\n",
              "      <td>['US']</td>\n",
              "      <td>tt0012349</td>\n",
              "      <td>8.3</td>\n",
              "      <td>128096.0</td>\n",
              "      <td>14.865</td>\n",
              "      <td>8.212</td>\n",
              "    </tr>\n",
              "  </tbody>\n",
              "</table>\n",
              "</div>\n",
              "      <button class=\"colab-df-convert\" onclick=\"convertToInteractive('df-21cb41a4-612f-44c9-8c17-4fe438ad6c92')\"\n",
              "              title=\"Convert this dataframe to an interactive table.\"\n",
              "              style=\"display:none;\">\n",
              "        \n",
              "  <svg xmlns=\"http://www.w3.org/2000/svg\" height=\"24px\"viewBox=\"0 0 24 24\"\n",
              "       width=\"24px\">\n",
              "    <path d=\"M0 0h24v24H0V0z\" fill=\"none\"/>\n",
              "    <path d=\"M18.56 5.44l.94 2.06.94-2.06 2.06-.94-2.06-.94-.94-2.06-.94 2.06-2.06.94zm-11 1L8.5 8.5l.94-2.06 2.06-.94-2.06-.94L8.5 2.5l-.94 2.06-2.06.94zm10 10l.94 2.06.94-2.06 2.06-.94-2.06-.94-.94-2.06-.94 2.06-2.06.94z\"/><path d=\"M17.41 7.96l-1.37-1.37c-.4-.4-.92-.59-1.43-.59-.52 0-1.04.2-1.43.59L10.3 9.45l-7.72 7.72c-.78.78-.78 2.05 0 2.83L4 21.41c.39.39.9.59 1.41.59.51 0 1.02-.2 1.41-.59l7.78-7.78 2.81-2.81c.8-.78.8-2.07 0-2.86zM5.41 20L4 18.59l7.72-7.72 1.47 1.35L5.41 20z\"/>\n",
              "  </svg>\n",
              "      </button>\n",
              "      \n",
              "  <style>\n",
              "    .colab-df-container {\n",
              "      display:flex;\n",
              "      flex-wrap:wrap;\n",
              "      gap: 12px;\n",
              "    }\n",
              "\n",
              "    .colab-df-convert {\n",
              "      background-color: #E8F0FE;\n",
              "      border: none;\n",
              "      border-radius: 50%;\n",
              "      cursor: pointer;\n",
              "      display: none;\n",
              "      fill: #1967D2;\n",
              "      height: 32px;\n",
              "      padding: 0 0 0 0;\n",
              "      width: 32px;\n",
              "    }\n",
              "\n",
              "    .colab-df-convert:hover {\n",
              "      background-color: #E2EBFA;\n",
              "      box-shadow: 0px 1px 2px rgba(60, 64, 67, 0.3), 0px 1px 3px 1px rgba(60, 64, 67, 0.15);\n",
              "      fill: #174EA6;\n",
              "    }\n",
              "\n",
              "    [theme=dark] .colab-df-convert {\n",
              "      background-color: #3B4455;\n",
              "      fill: #D2E3FC;\n",
              "    }\n",
              "\n",
              "    [theme=dark] .colab-df-convert:hover {\n",
              "      background-color: #434B5C;\n",
              "      box-shadow: 0px 1px 3px 1px rgba(0, 0, 0, 0.15);\n",
              "      filter: drop-shadow(0px 1px 2px rgba(0, 0, 0, 0.3));\n",
              "      fill: #FFFFFF;\n",
              "    }\n",
              "  </style>\n",
              "\n",
              "      <script>\n",
              "        const buttonEl =\n",
              "          document.querySelector('#df-21cb41a4-612f-44c9-8c17-4fe438ad6c92 button.colab-df-convert');\n",
              "        buttonEl.style.display =\n",
              "          google.colab.kernel.accessAllowed ? 'block' : 'none';\n",
              "\n",
              "        async function convertToInteractive(key) {\n",
              "          const element = document.querySelector('#df-21cb41a4-612f-44c9-8c17-4fe438ad6c92');\n",
              "          const dataTable =\n",
              "            await google.colab.kernel.invokeFunction('convertToInteractive',\n",
              "                                                     [key], {});\n",
              "          if (!dataTable) return;\n",
              "\n",
              "          const docLinkHtml = 'Like what you see? Visit the ' +\n",
              "            '<a target=\"_blank\" href=https://colab.research.google.com/notebooks/data_table.ipynb>data table notebook</a>'\n",
              "            + ' to learn more about interactive tables.';\n",
              "          element.innerHTML = '';\n",
              "          dataTable['output_type'] = 'display_data';\n",
              "          await google.colab.output.renderOutput(dataTable, element);\n",
              "          const docLink = document.createElement('div');\n",
              "          docLink.innerHTML = docLinkHtml;\n",
              "          element.appendChild(docLink);\n",
              "        }\n",
              "      </script>\n",
              "    </div>\n",
              "  </div>\n",
              "  "
            ]
          },
          "metadata": {},
          "execution_count": 97
        }
      ]
    },
    {
      "cell_type": "markdown",
      "source": [
        "Handling the 'genres' and 'production_countries' columns"
      ],
      "metadata": {
        "id": "b6HJLBCG1MAC"
      }
    },
    {
      "cell_type": "code",
      "source": [
        "movies['genres'] = movies['genres'].str.replace(r'[', '').str.replace(r\"'\", '').str.replace(r']', '')\n",
        "movies['genre'] = movies['genres'].str.split(',').str[0]"
      ],
      "metadata": {
        "colab": {
          "base_uri": "https://localhost:8080/"
        },
        "id": "uk-cE5Yk03rH",
        "outputId": "29876be9-68d6-432f-cc7d-074d8eb651f8"
      },
      "execution_count": 98,
      "outputs": [
        {
          "output_type": "stream",
          "name": "stderr",
          "text": [
            "<ipython-input-98-9f298c0bc36d>:1: FutureWarning: The default value of regex will change from True to False in a future version. In addition, single character regular expressions will *not* be treated as literal strings when regex=True.\n",
            "  movies['genres'] = movies['genres'].str.replace(r'[', '').str.replace(r\"'\", '').str.replace(r']', '')\n"
          ]
        }
      ]
    },
    {
      "cell_type": "code",
      "source": [
        "movies['production_countries'] = movies['production_countries'].str.replace(r'[', '').str.replace(r\"'\", '').str.replace(r']', '')\n",
        "movies['production_country'] = movies['production_countries'].str.split(',').str[0]"
      ],
      "metadata": {
        "colab": {
          "base_uri": "https://localhost:8080/"
        },
        "id": "4Aj58t5_1xvm",
        "outputId": "d8956d85-39d5-4ab0-a84d-679e74cd4678"
      },
      "execution_count": 99,
      "outputs": [
        {
          "output_type": "stream",
          "name": "stderr",
          "text": [
            "<ipython-input-99-49fe2a123a9e>:1: FutureWarning: The default value of regex will change from True to False in a future version. In addition, single character regular expressions will *not* be treated as literal strings when regex=True.\n",
            "  movies['production_countries'] = movies['production_countries'].str.replace(r'[', '').str.replace(r\"'\", '').str.replace(r']', '')\n"
          ]
        }
      ]
    },
    {
      "cell_type": "code",
      "source": [
        "movies.drop(['genres', 'production_countries'], axis=1, inplace=True)"
      ],
      "metadata": {
        "id": "1Wxe8GRT2LJI"
      },
      "execution_count": 100,
      "outputs": []
    },
    {
      "cell_type": "code",
      "source": [
        "movies.head()"
      ],
      "metadata": {
        "colab": {
          "base_uri": "https://localhost:8080/",
          "height": 299
        },
        "id": "jyFkFzPI2T0H",
        "outputId": "4030e7ea-fc34-4654-c9ed-08d6b6d861fa"
      },
      "execution_count": 101,
      "outputs": [
        {
          "output_type": "execute_result",
          "data": {
            "text/plain": [
              "         id             title   type  \\\n",
              "0   tm65789  Sunset Boulevard  MOVIE   \n",
              "1   tm83884   His Girl Friday  MOVIE   \n",
              "2    tm5012         Red River  MOVIE   \n",
              "3   tm19248       The General  MOVIE   \n",
              "4  tm122846           The Kid  MOVIE   \n",
              "\n",
              "                                         description  release_year  \\\n",
              "0  A hack screenwriter writes a screenplay for a ...          1950   \n",
              "1  Hildy, the journalist former wife of newspaper...          1940   \n",
              "2  Headstrong Thomas Dunson starts a thriving Tex...          1948   \n",
              "3  During America’s Civil War, Union spies steal ...          1926   \n",
              "4  A tramp cares for a boy after he's abandoned a...          1921   \n",
              "\n",
              "  age_certification  runtime    imdb_id  imdb_score  imdb_votes  \\\n",
              "0                PG      110  tt0043014         8.4    224704.0   \n",
              "1               NaN       92  tt0032599         7.8     60244.0   \n",
              "2               NaN      133  tt0040724         7.8     32210.0   \n",
              "3               NaN       79  tt0017925         8.1     92935.0   \n",
              "4               NaN       68  tt0012349         8.3    128096.0   \n",
              "\n",
              "   tmdb_popularity  tmdb_score    genre production_country  \n",
              "0           18.431       8.366    drama                 US  \n",
              "1           14.759       7.433    drama                 US  \n",
              "2           12.400       7.400  western                 US  \n",
              "3           12.316       8.009   comedy                 US  \n",
              "4           14.865       8.212   comedy                 US  "
            ],
            "text/html": [
              "\n",
              "  <div id=\"df-5f42c0a0-4d65-41eb-8f62-b862963ab80d\">\n",
              "    <div class=\"colab-df-container\">\n",
              "      <div>\n",
              "<style scoped>\n",
              "    .dataframe tbody tr th:only-of-type {\n",
              "        vertical-align: middle;\n",
              "    }\n",
              "\n",
              "    .dataframe tbody tr th {\n",
              "        vertical-align: top;\n",
              "    }\n",
              "\n",
              "    .dataframe thead th {\n",
              "        text-align: right;\n",
              "    }\n",
              "</style>\n",
              "<table border=\"1\" class=\"dataframe\">\n",
              "  <thead>\n",
              "    <tr style=\"text-align: right;\">\n",
              "      <th></th>\n",
              "      <th>id</th>\n",
              "      <th>title</th>\n",
              "      <th>type</th>\n",
              "      <th>description</th>\n",
              "      <th>release_year</th>\n",
              "      <th>age_certification</th>\n",
              "      <th>runtime</th>\n",
              "      <th>imdb_id</th>\n",
              "      <th>imdb_score</th>\n",
              "      <th>imdb_votes</th>\n",
              "      <th>tmdb_popularity</th>\n",
              "      <th>tmdb_score</th>\n",
              "      <th>genre</th>\n",
              "      <th>production_country</th>\n",
              "    </tr>\n",
              "  </thead>\n",
              "  <tbody>\n",
              "    <tr>\n",
              "      <th>0</th>\n",
              "      <td>tm65789</td>\n",
              "      <td>Sunset Boulevard</td>\n",
              "      <td>MOVIE</td>\n",
              "      <td>A hack screenwriter writes a screenplay for a ...</td>\n",
              "      <td>1950</td>\n",
              "      <td>PG</td>\n",
              "      <td>110</td>\n",
              "      <td>tt0043014</td>\n",
              "      <td>8.4</td>\n",
              "      <td>224704.0</td>\n",
              "      <td>18.431</td>\n",
              "      <td>8.366</td>\n",
              "      <td>drama</td>\n",
              "      <td>US</td>\n",
              "    </tr>\n",
              "    <tr>\n",
              "      <th>1</th>\n",
              "      <td>tm83884</td>\n",
              "      <td>His Girl Friday</td>\n",
              "      <td>MOVIE</td>\n",
              "      <td>Hildy, the journalist former wife of newspaper...</td>\n",
              "      <td>1940</td>\n",
              "      <td>NaN</td>\n",
              "      <td>92</td>\n",
              "      <td>tt0032599</td>\n",
              "      <td>7.8</td>\n",
              "      <td>60244.0</td>\n",
              "      <td>14.759</td>\n",
              "      <td>7.433</td>\n",
              "      <td>drama</td>\n",
              "      <td>US</td>\n",
              "    </tr>\n",
              "    <tr>\n",
              "      <th>2</th>\n",
              "      <td>tm5012</td>\n",
              "      <td>Red River</td>\n",
              "      <td>MOVIE</td>\n",
              "      <td>Headstrong Thomas Dunson starts a thriving Tex...</td>\n",
              "      <td>1948</td>\n",
              "      <td>NaN</td>\n",
              "      <td>133</td>\n",
              "      <td>tt0040724</td>\n",
              "      <td>7.8</td>\n",
              "      <td>32210.0</td>\n",
              "      <td>12.400</td>\n",
              "      <td>7.400</td>\n",
              "      <td>western</td>\n",
              "      <td>US</td>\n",
              "    </tr>\n",
              "    <tr>\n",
              "      <th>3</th>\n",
              "      <td>tm19248</td>\n",
              "      <td>The General</td>\n",
              "      <td>MOVIE</td>\n",
              "      <td>During America’s Civil War, Union spies steal ...</td>\n",
              "      <td>1926</td>\n",
              "      <td>NaN</td>\n",
              "      <td>79</td>\n",
              "      <td>tt0017925</td>\n",
              "      <td>8.1</td>\n",
              "      <td>92935.0</td>\n",
              "      <td>12.316</td>\n",
              "      <td>8.009</td>\n",
              "      <td>comedy</td>\n",
              "      <td>US</td>\n",
              "    </tr>\n",
              "    <tr>\n",
              "      <th>4</th>\n",
              "      <td>tm122846</td>\n",
              "      <td>The Kid</td>\n",
              "      <td>MOVIE</td>\n",
              "      <td>A tramp cares for a boy after he's abandoned a...</td>\n",
              "      <td>1921</td>\n",
              "      <td>NaN</td>\n",
              "      <td>68</td>\n",
              "      <td>tt0012349</td>\n",
              "      <td>8.3</td>\n",
              "      <td>128096.0</td>\n",
              "      <td>14.865</td>\n",
              "      <td>8.212</td>\n",
              "      <td>comedy</td>\n",
              "      <td>US</td>\n",
              "    </tr>\n",
              "  </tbody>\n",
              "</table>\n",
              "</div>\n",
              "      <button class=\"colab-df-convert\" onclick=\"convertToInteractive('df-5f42c0a0-4d65-41eb-8f62-b862963ab80d')\"\n",
              "              title=\"Convert this dataframe to an interactive table.\"\n",
              "              style=\"display:none;\">\n",
              "        \n",
              "  <svg xmlns=\"http://www.w3.org/2000/svg\" height=\"24px\"viewBox=\"0 0 24 24\"\n",
              "       width=\"24px\">\n",
              "    <path d=\"M0 0h24v24H0V0z\" fill=\"none\"/>\n",
              "    <path d=\"M18.56 5.44l.94 2.06.94-2.06 2.06-.94-2.06-.94-.94-2.06-.94 2.06-2.06.94zm-11 1L8.5 8.5l.94-2.06 2.06-.94-2.06-.94L8.5 2.5l-.94 2.06-2.06.94zm10 10l.94 2.06.94-2.06 2.06-.94-2.06-.94-.94-2.06-.94 2.06-2.06.94z\"/><path d=\"M17.41 7.96l-1.37-1.37c-.4-.4-.92-.59-1.43-.59-.52 0-1.04.2-1.43.59L10.3 9.45l-7.72 7.72c-.78.78-.78 2.05 0 2.83L4 21.41c.39.39.9.59 1.41.59.51 0 1.02-.2 1.41-.59l7.78-7.78 2.81-2.81c.8-.78.8-2.07 0-2.86zM5.41 20L4 18.59l7.72-7.72 1.47 1.35L5.41 20z\"/>\n",
              "  </svg>\n",
              "      </button>\n",
              "      \n",
              "  <style>\n",
              "    .colab-df-container {\n",
              "      display:flex;\n",
              "      flex-wrap:wrap;\n",
              "      gap: 12px;\n",
              "    }\n",
              "\n",
              "    .colab-df-convert {\n",
              "      background-color: #E8F0FE;\n",
              "      border: none;\n",
              "      border-radius: 50%;\n",
              "      cursor: pointer;\n",
              "      display: none;\n",
              "      fill: #1967D2;\n",
              "      height: 32px;\n",
              "      padding: 0 0 0 0;\n",
              "      width: 32px;\n",
              "    }\n",
              "\n",
              "    .colab-df-convert:hover {\n",
              "      background-color: #E2EBFA;\n",
              "      box-shadow: 0px 1px 2px rgba(60, 64, 67, 0.3), 0px 1px 3px 1px rgba(60, 64, 67, 0.15);\n",
              "      fill: #174EA6;\n",
              "    }\n",
              "\n",
              "    [theme=dark] .colab-df-convert {\n",
              "      background-color: #3B4455;\n",
              "      fill: #D2E3FC;\n",
              "    }\n",
              "\n",
              "    [theme=dark] .colab-df-convert:hover {\n",
              "      background-color: #434B5C;\n",
              "      box-shadow: 0px 1px 3px 1px rgba(0, 0, 0, 0.15);\n",
              "      filter: drop-shadow(0px 1px 2px rgba(0, 0, 0, 0.3));\n",
              "      fill: #FFFFFF;\n",
              "    }\n",
              "  </style>\n",
              "\n",
              "      <script>\n",
              "        const buttonEl =\n",
              "          document.querySelector('#df-5f42c0a0-4d65-41eb-8f62-b862963ab80d button.colab-df-convert');\n",
              "        buttonEl.style.display =\n",
              "          google.colab.kernel.accessAllowed ? 'block' : 'none';\n",
              "\n",
              "        async function convertToInteractive(key) {\n",
              "          const element = document.querySelector('#df-5f42c0a0-4d65-41eb-8f62-b862963ab80d');\n",
              "          const dataTable =\n",
              "            await google.colab.kernel.invokeFunction('convertToInteractive',\n",
              "                                                     [key], {});\n",
              "          if (!dataTable) return;\n",
              "\n",
              "          const docLinkHtml = 'Like what you see? Visit the ' +\n",
              "            '<a target=\"_blank\" href=https://colab.research.google.com/notebooks/data_table.ipynb>data table notebook</a>'\n",
              "            + ' to learn more about interactive tables.';\n",
              "          element.innerHTML = '';\n",
              "          dataTable['output_type'] = 'display_data';\n",
              "          await google.colab.output.renderOutput(dataTable, element);\n",
              "          const docLink = document.createElement('div');\n",
              "          docLink.innerHTML = docLinkHtml;\n",
              "          element.appendChild(docLink);\n",
              "        }\n",
              "      </script>\n",
              "    </div>\n",
              "  </div>\n",
              "  "
            ]
          },
          "metadata": {},
          "execution_count": 101
        }
      ]
    },
    {
      "cell_type": "code",
      "source": [
        "movies['genre'].unique()"
      ],
      "metadata": {
        "colab": {
          "base_uri": "https://localhost:8080/"
        },
        "id": "O7k--a7W2Ygn",
        "outputId": "fefc1222-a9b6-4266-cab0-ebbd8d0b7147"
      },
      "execution_count": 102,
      "outputs": [
        {
          "output_type": "execute_result",
          "data": {
            "text/plain": [
              "array(['drama', 'western', 'comedy', 'action', 'romance', 'thriller',\n",
              "       'horror', 'documentation', 'music', 'crime', '', 'fantasy', 'war',\n",
              "       'history', 'scifi', 'animation', 'family', 'reality', 'sport',\n",
              "       'european'], dtype=object)"
            ]
          },
          "metadata": {},
          "execution_count": 102
        }
      ]
    },
    {
      "cell_type": "code",
      "source": [
        "movies['production_country'].unique()"
      ],
      "metadata": {
        "colab": {
          "base_uri": "https://localhost:8080/"
        },
        "id": "tE-j_sTZ2fww",
        "outputId": "710ad283-345c-4261-af7b-cf1ea7935d01"
      },
      "execution_count": 103,
      "outputs": [
        {
          "output_type": "execute_result",
          "data": {
            "text/plain": [
              "array(['US', 'GB', 'DE', '', 'IT', 'FR', 'HK', 'PR', 'JP', 'KR', 'ES',\n",
              "       'CA', 'IE', 'ZA', 'AU', 'IL', 'YU', 'DK', 'BR', 'CZ', 'CN', 'IR',\n",
              "       'TH', 'PL', 'RU', 'CO', 'AF', 'KE', 'TW', 'AR', 'SB', 'CU', 'BS',\n",
              "       'NO', 'NZ', 'FI', 'PH', 'NI', 'SE', 'CH', 'IS', 'BM', 'TR', 'BE',\n",
              "       'GR', 'SK', 'IN', 'CI', 'AT', 'BW', 'MX', 'SU', 'MA', 'RO', 'MC',\n",
              "       'EG', 'LI', 'PT', 'NL', 'ID', 'VE', 'XC', 'BG', 'CL', 'LU', 'DO',\n",
              "       'AE', 'JM', 'RS', 'LT', 'UA', 'KZ', 'NG', 'UY', 'MT', 'VN', 'BO',\n",
              "       'SG', 'GE', 'TT', 'HU', 'MY', 'PK', 'BY', 'PE', 'XK', 'TC', 'LB',\n",
              "       'NP', 'MN', 'CR', 'PA', 'UZ', 'NA', 'KH', 'QA', 'CM', 'EE', 'LV',\n",
              "       'SY', 'PF', 'HN', 'TN', 'EC', 'BD', 'MK', 'DZ', 'SN', 'GT', 'ET',\n",
              "       'PS', 'CD', 'SA', 'GL', 'JO', 'KW', 'PY', 'IQ', 'TZ', 'KG', 'BT',\n",
              "       'AO', 'GH', 'ZW', 'MW', 'MU', 'FO'], dtype=object)"
            ]
          },
          "metadata": {},
          "execution_count": 103
        }
      ]
    },
    {
      "cell_type": "code",
      "source": [
        "movies['genre'] = movies['genre'].replace('', np.nan)\n",
        "movies['production_country'] = movies['production_country'].replace('', np.nan)"
      ],
      "metadata": {
        "id": "oCfAc2z-2k7f"
      },
      "execution_count": 104,
      "outputs": []
    },
    {
      "cell_type": "markdown",
      "source": [
        "Clean the Data"
      ],
      "metadata": {
        "id": "zXZvB7sQ3Cmq"
      }
    },
    {
      "cell_type": "code",
      "source": [
        "movies.info()"
      ],
      "metadata": {
        "colab": {
          "base_uri": "https://localhost:8080/"
        },
        "id": "wCpzwY2422_7",
        "outputId": "baecbf22-0064-4f1a-83f3-2c6d52d1c1ee"
      },
      "execution_count": 105,
      "outputs": [
        {
          "output_type": "stream",
          "name": "stdout",
          "text": [
            "<class 'pandas.core.frame.DataFrame'>\n",
            "RangeIndex: 17739 entries, 0 to 17738\n",
            "Data columns (total 14 columns):\n",
            " #   Column              Non-Null Count  Dtype  \n",
            "---  ------              --------------  -----  \n",
            " 0   id                  17739 non-null  object \n",
            " 1   title               17739 non-null  object \n",
            " 2   type                17739 non-null  object \n",
            " 3   description         17602 non-null  object \n",
            " 4   release_year        17739 non-null  int64  \n",
            " 5   age_certification   6988 non-null   object \n",
            " 6   runtime             17739 non-null  int64  \n",
            " 7   imdb_id             16148 non-null  object \n",
            " 8   imdb_score          15695 non-null  float64\n",
            " 9   imdb_votes          15638 non-null  float64\n",
            " 10  tmdb_popularity     17213 non-null  float64\n",
            " 11  tmdb_score          15465 non-null  float64\n",
            " 12  genre               17497 non-null  object \n",
            " 13  production_country  16845 non-null  object \n",
            "dtypes: float64(4), int64(2), object(8)\n",
            "memory usage: 1.9+ MB\n"
          ]
        }
      ]
    },
    {
      "cell_type": "code",
      "source": [
        "movies.drop(['age_certification', 'imdb_id'], axis=1, inplace=True)"
      ],
      "metadata": {
        "id": "lyjb5n7l3cYK"
      },
      "execution_count": 106,
      "outputs": []
    },
    {
      "cell_type": "code",
      "source": [
        "movies.dropna(inplace=True)"
      ],
      "metadata": {
        "id": "quJQNEiP3o6H"
      },
      "execution_count": 107,
      "outputs": []
    },
    {
      "cell_type": "code",
      "source": [
        "movies.info()"
      ],
      "metadata": {
        "colab": {
          "base_uri": "https://localhost:8080/"
        },
        "id": "zxNjk4fX3tag",
        "outputId": "a095a5a0-3556-4395-fcb2-72b834d36d86"
      },
      "execution_count": 108,
      "outputs": [
        {
          "output_type": "stream",
          "name": "stdout",
          "text": [
            "<class 'pandas.core.frame.DataFrame'>\n",
            "Int64Index: 13831 entries, 0 to 17737\n",
            "Data columns (total 12 columns):\n",
            " #   Column              Non-Null Count  Dtype  \n",
            "---  ------              --------------  -----  \n",
            " 0   id                  13831 non-null  object \n",
            " 1   title               13831 non-null  object \n",
            " 2   type                13831 non-null  object \n",
            " 3   description         13831 non-null  object \n",
            " 4   release_year        13831 non-null  int64  \n",
            " 5   runtime             13831 non-null  int64  \n",
            " 6   imdb_score          13831 non-null  float64\n",
            " 7   imdb_votes          13831 non-null  float64\n",
            " 8   tmdb_popularity     13831 non-null  float64\n",
            " 9   tmdb_score          13831 non-null  float64\n",
            " 10  genre               13831 non-null  object \n",
            " 11  production_country  13831 non-null  object \n",
            "dtypes: float64(4), int64(2), object(6)\n",
            "memory usage: 1.4+ MB\n"
          ]
        }
      ]
    },
    {
      "cell_type": "markdown",
      "source": [
        "Content Based Recommender"
      ],
      "metadata": {
        "id": "dRcH9I8R4FPb"
      }
    },
    {
      "cell_type": "code",
      "source": [
        "lt = []\n",
        "for i in movies['id']:\n",
        "    movie_streaming = []\n",
        "    if i in amazonprime_titles['id'].values:\n",
        "        movie_streaming.append('amazon')\n",
        "    if i in appletv_titles['id'].values:\n",
        "        movie_streaming.append('appletv')\n",
        "    if i in disney_titles['id'].values:\n",
        "        movie_streaming.append('disney+')\n",
        "    if i in hbo_titles['id'].values:\n",
        "        movie_streaming.append('hbomax')\n",
        "    if i in netflix_titles['id'].values:\n",
        "        movie_streaming.append('netflix')\n",
        "    if i in paramount_titles['id'].values:\n",
        "        movie_streaming.append('paramount+')\n",
        "    lt.append(movie_streaming)"
      ],
      "metadata": {
        "id": "SQd8sE073vWS"
      },
      "execution_count": 109,
      "outputs": []
    },
    {
      "cell_type": "code",
      "source": [
        "movies['streaming_platform'] = lt"
      ],
      "metadata": {
        "id": "WXxY5B1V4xsJ"
      },
      "execution_count": 110,
      "outputs": []
    },
    {
      "cell_type": "code",
      "source": [
        "movies.head()"
      ],
      "metadata": {
        "colab": {
          "base_uri": "https://localhost:8080/",
          "height": 248
        },
        "id": "5SC6BVIh45zV",
        "outputId": "8469541e-2b75-4b55-efd8-0d291b82762b"
      },
      "execution_count": 111,
      "outputs": [
        {
          "output_type": "execute_result",
          "data": {
            "text/plain": [
              "         id             title   type  \\\n",
              "0   tm65789  Sunset Boulevard  MOVIE   \n",
              "1   tm83884   His Girl Friday  MOVIE   \n",
              "2    tm5012         Red River  MOVIE   \n",
              "3   tm19248       The General  MOVIE   \n",
              "4  tm122846           The Kid  MOVIE   \n",
              "\n",
              "                                         description  release_year  runtime  \\\n",
              "0  A hack screenwriter writes a screenplay for a ...          1950      110   \n",
              "1  Hildy, the journalist former wife of newspaper...          1940       92   \n",
              "2  Headstrong Thomas Dunson starts a thriving Tex...          1948      133   \n",
              "3  During America’s Civil War, Union spies steal ...          1926       79   \n",
              "4  A tramp cares for a boy after he's abandoned a...          1921       68   \n",
              "\n",
              "   imdb_score  imdb_votes  tmdb_popularity  tmdb_score    genre  \\\n",
              "0         8.4    224704.0           18.431       8.366    drama   \n",
              "1         7.8     60244.0           14.759       7.433    drama   \n",
              "2         7.8     32210.0           12.400       7.400  western   \n",
              "3         8.1     92935.0           12.316       8.009   comedy   \n",
              "4         8.3    128096.0           14.865       8.212   comedy   \n",
              "\n",
              "  production_country    streaming_platform  \n",
              "0                 US          [paramount+]  \n",
              "1                 US  [amazon, paramount+]  \n",
              "2                 US  [amazon, paramount+]  \n",
              "3                 US  [amazon, paramount+]  \n",
              "4                 US  [hbomax, paramount+]  "
            ],
            "text/html": [
              "\n",
              "  <div id=\"df-5f679d22-b2c6-4683-bb4b-01b5f9beb65a\">\n",
              "    <div class=\"colab-df-container\">\n",
              "      <div>\n",
              "<style scoped>\n",
              "    .dataframe tbody tr th:only-of-type {\n",
              "        vertical-align: middle;\n",
              "    }\n",
              "\n",
              "    .dataframe tbody tr th {\n",
              "        vertical-align: top;\n",
              "    }\n",
              "\n",
              "    .dataframe thead th {\n",
              "        text-align: right;\n",
              "    }\n",
              "</style>\n",
              "<table border=\"1\" class=\"dataframe\">\n",
              "  <thead>\n",
              "    <tr style=\"text-align: right;\">\n",
              "      <th></th>\n",
              "      <th>id</th>\n",
              "      <th>title</th>\n",
              "      <th>type</th>\n",
              "      <th>description</th>\n",
              "      <th>release_year</th>\n",
              "      <th>runtime</th>\n",
              "      <th>imdb_score</th>\n",
              "      <th>imdb_votes</th>\n",
              "      <th>tmdb_popularity</th>\n",
              "      <th>tmdb_score</th>\n",
              "      <th>genre</th>\n",
              "      <th>production_country</th>\n",
              "      <th>streaming_platform</th>\n",
              "    </tr>\n",
              "  </thead>\n",
              "  <tbody>\n",
              "    <tr>\n",
              "      <th>0</th>\n",
              "      <td>tm65789</td>\n",
              "      <td>Sunset Boulevard</td>\n",
              "      <td>MOVIE</td>\n",
              "      <td>A hack screenwriter writes a screenplay for a ...</td>\n",
              "      <td>1950</td>\n",
              "      <td>110</td>\n",
              "      <td>8.4</td>\n",
              "      <td>224704.0</td>\n",
              "      <td>18.431</td>\n",
              "      <td>8.366</td>\n",
              "      <td>drama</td>\n",
              "      <td>US</td>\n",
              "      <td>[paramount+]</td>\n",
              "    </tr>\n",
              "    <tr>\n",
              "      <th>1</th>\n",
              "      <td>tm83884</td>\n",
              "      <td>His Girl Friday</td>\n",
              "      <td>MOVIE</td>\n",
              "      <td>Hildy, the journalist former wife of newspaper...</td>\n",
              "      <td>1940</td>\n",
              "      <td>92</td>\n",
              "      <td>7.8</td>\n",
              "      <td>60244.0</td>\n",
              "      <td>14.759</td>\n",
              "      <td>7.433</td>\n",
              "      <td>drama</td>\n",
              "      <td>US</td>\n",
              "      <td>[amazon, paramount+]</td>\n",
              "    </tr>\n",
              "    <tr>\n",
              "      <th>2</th>\n",
              "      <td>tm5012</td>\n",
              "      <td>Red River</td>\n",
              "      <td>MOVIE</td>\n",
              "      <td>Headstrong Thomas Dunson starts a thriving Tex...</td>\n",
              "      <td>1948</td>\n",
              "      <td>133</td>\n",
              "      <td>7.8</td>\n",
              "      <td>32210.0</td>\n",
              "      <td>12.400</td>\n",
              "      <td>7.400</td>\n",
              "      <td>western</td>\n",
              "      <td>US</td>\n",
              "      <td>[amazon, paramount+]</td>\n",
              "    </tr>\n",
              "    <tr>\n",
              "      <th>3</th>\n",
              "      <td>tm19248</td>\n",
              "      <td>The General</td>\n",
              "      <td>MOVIE</td>\n",
              "      <td>During America’s Civil War, Union spies steal ...</td>\n",
              "      <td>1926</td>\n",
              "      <td>79</td>\n",
              "      <td>8.1</td>\n",
              "      <td>92935.0</td>\n",
              "      <td>12.316</td>\n",
              "      <td>8.009</td>\n",
              "      <td>comedy</td>\n",
              "      <td>US</td>\n",
              "      <td>[amazon, paramount+]</td>\n",
              "    </tr>\n",
              "    <tr>\n",
              "      <th>4</th>\n",
              "      <td>tm122846</td>\n",
              "      <td>The Kid</td>\n",
              "      <td>MOVIE</td>\n",
              "      <td>A tramp cares for a boy after he's abandoned a...</td>\n",
              "      <td>1921</td>\n",
              "      <td>68</td>\n",
              "      <td>8.3</td>\n",
              "      <td>128096.0</td>\n",
              "      <td>14.865</td>\n",
              "      <td>8.212</td>\n",
              "      <td>comedy</td>\n",
              "      <td>US</td>\n",
              "      <td>[hbomax, paramount+]</td>\n",
              "    </tr>\n",
              "  </tbody>\n",
              "</table>\n",
              "</div>\n",
              "      <button class=\"colab-df-convert\" onclick=\"convertToInteractive('df-5f679d22-b2c6-4683-bb4b-01b5f9beb65a')\"\n",
              "              title=\"Convert this dataframe to an interactive table.\"\n",
              "              style=\"display:none;\">\n",
              "        \n",
              "  <svg xmlns=\"http://www.w3.org/2000/svg\" height=\"24px\"viewBox=\"0 0 24 24\"\n",
              "       width=\"24px\">\n",
              "    <path d=\"M0 0h24v24H0V0z\" fill=\"none\"/>\n",
              "    <path d=\"M18.56 5.44l.94 2.06.94-2.06 2.06-.94-2.06-.94-.94-2.06-.94 2.06-2.06.94zm-11 1L8.5 8.5l.94-2.06 2.06-.94-2.06-.94L8.5 2.5l-.94 2.06-2.06.94zm10 10l.94 2.06.94-2.06 2.06-.94-2.06-.94-.94-2.06-.94 2.06-2.06.94z\"/><path d=\"M17.41 7.96l-1.37-1.37c-.4-.4-.92-.59-1.43-.59-.52 0-1.04.2-1.43.59L10.3 9.45l-7.72 7.72c-.78.78-.78 2.05 0 2.83L4 21.41c.39.39.9.59 1.41.59.51 0 1.02-.2 1.41-.59l7.78-7.78 2.81-2.81c.8-.78.8-2.07 0-2.86zM5.41 20L4 18.59l7.72-7.72 1.47 1.35L5.41 20z\"/>\n",
              "  </svg>\n",
              "      </button>\n",
              "      \n",
              "  <style>\n",
              "    .colab-df-container {\n",
              "      display:flex;\n",
              "      flex-wrap:wrap;\n",
              "      gap: 12px;\n",
              "    }\n",
              "\n",
              "    .colab-df-convert {\n",
              "      background-color: #E8F0FE;\n",
              "      border: none;\n",
              "      border-radius: 50%;\n",
              "      cursor: pointer;\n",
              "      display: none;\n",
              "      fill: #1967D2;\n",
              "      height: 32px;\n",
              "      padding: 0 0 0 0;\n",
              "      width: 32px;\n",
              "    }\n",
              "\n",
              "    .colab-df-convert:hover {\n",
              "      background-color: #E2EBFA;\n",
              "      box-shadow: 0px 1px 2px rgba(60, 64, 67, 0.3), 0px 1px 3px 1px rgba(60, 64, 67, 0.15);\n",
              "      fill: #174EA6;\n",
              "    }\n",
              "\n",
              "    [theme=dark] .colab-df-convert {\n",
              "      background-color: #3B4455;\n",
              "      fill: #D2E3FC;\n",
              "    }\n",
              "\n",
              "    [theme=dark] .colab-df-convert:hover {\n",
              "      background-color: #434B5C;\n",
              "      box-shadow: 0px 1px 3px 1px rgba(0, 0, 0, 0.15);\n",
              "      filter: drop-shadow(0px 1px 2px rgba(0, 0, 0, 0.3));\n",
              "      fill: #FFFFFF;\n",
              "    }\n",
              "  </style>\n",
              "\n",
              "      <script>\n",
              "        const buttonEl =\n",
              "          document.querySelector('#df-5f679d22-b2c6-4683-bb4b-01b5f9beb65a button.colab-df-convert');\n",
              "        buttonEl.style.display =\n",
              "          google.colab.kernel.accessAllowed ? 'block' : 'none';\n",
              "\n",
              "        async function convertToInteractive(key) {\n",
              "          const element = document.querySelector('#df-5f679d22-b2c6-4683-bb4b-01b5f9beb65a');\n",
              "          const dataTable =\n",
              "            await google.colab.kernel.invokeFunction('convertToInteractive',\n",
              "                                                     [key], {});\n",
              "          if (!dataTable) return;\n",
              "\n",
              "          const docLinkHtml = 'Like what you see? Visit the ' +\n",
              "            '<a target=\"_blank\" href=https://colab.research.google.com/notebooks/data_table.ipynb>data table notebook</a>'\n",
              "            + ' to learn more about interactive tables.';\n",
              "          element.innerHTML = '';\n",
              "          dataTable['output_type'] = 'display_data';\n",
              "          await google.colab.output.renderOutput(dataTable, element);\n",
              "          const docLink = document.createElement('div');\n",
              "          docLink.innerHTML = docLinkHtml;\n",
              "          element.appendChild(docLink);\n",
              "        }\n",
              "      </script>\n",
              "    </div>\n",
              "  </div>\n",
              "  "
            ]
          },
          "metadata": {},
          "execution_count": 111
        }
      ]
    },
    {
      "cell_type": "markdown",
      "source": [
        "Term Frequency-Inverse Document Frequency"
      ],
      "metadata": {
        "id": "45vh-EUs6GWQ"
      }
    },
    {
      "cell_type": "markdown",
      "source": [
        "Term Frequency-Inverse Document Frequency (TF-IDF) is a numerical statistic used to reflect the importance of a word in a document or corpus. It is commonly used in natural language processing and information retrieval to represent text data.\n",
        "\n",
        "The TF-IDF vector for a given document is computed by first tokenizing the text and removing stop words, and then calculating the term frequency (TF) of each word, which is simply the number of times the word appears in the document. The inverse document frequency (IDF) of each word is also calculated, which is a measure of how important the word is across the entire corpus. The IDF is calculated as the logarithm of the total number of documents in the corpus divided by the number of documents that contain the word.\n",
        "\n",
        "The TF-IDF vector for each document is then obtained by multiplying the term frequency of each word in the document by the inverse document frequency of that word. This results in a vector that represents the importance of each word in the document relative to the entire corpus.\n",
        "\n",
        "TF-IDF vectors can be used for a variety of tasks in natural language processing, such as text classification, clustering, and information retrieval. They provide a way to represent text data numerically, which can be useful for machine learning algorithms that require numerical input.\n",
        "\n",
        "\n"
      ],
      "metadata": {
        "id": "3rOJaNvJ6QOB"
      }
    },
    {
      "cell_type": "code",
      "source": [
        "from sklearn.feature_extraction.text import TfidfVectorizer\n",
        "from sklearn.metrics.pairwise import linear_kernel"
      ],
      "metadata": {
        "id": "aOFcLyoY47g9"
      },
      "execution_count": 112,
      "outputs": []
    },
    {
      "cell_type": "code",
      "source": [
        "tfidf = TfidfVectorizer(stop_words='english')\n",
        "tfidf_matrix_movies = tfidf.fit_transform(movies['description'])"
      ],
      "metadata": {
        "id": "FgqEuOcE6Yn1"
      },
      "execution_count": 113,
      "outputs": []
    },
    {
      "cell_type": "code",
      "source": [
        "print(tfidf_matrix_movies.shape)"
      ],
      "metadata": {
        "colab": {
          "base_uri": "https://localhost:8080/"
        },
        "id": "T_CpYCs36s1r",
        "outputId": "2bf15ee5-f1e5-4c47-cba7-57c6e07d1d49"
      },
      "execution_count": 114,
      "outputs": [
        {
          "output_type": "stream",
          "name": "stdout",
          "text": [
            "(13831, 35074)\n"
          ]
        }
      ]
    },
    {
      "cell_type": "markdown",
      "source": [
        "Compute the cosine similarity score"
      ],
      "metadata": {
        "id": "7gGhBPu87RWi"
      }
    },
    {
      "cell_type": "code",
      "source": [
        "cosine_sim_movies = linear_kernel(tfidf_matrix_movies, tfidf_matrix_movies)"
      ],
      "metadata": {
        "id": "0zObZYjR6vsE"
      },
      "execution_count": 115,
      "outputs": []
    },
    {
      "cell_type": "markdown",
      "source": [
        "Recommendations"
      ],
      "metadata": {
        "id": "NxPH6Yk2AlA0"
      }
    },
    {
      "cell_type": "code",
      "source": [
        "movie_count = 13831"
      ],
      "metadata": {
        "id": "_iH0XbhhMKxc"
      },
      "execution_count": 140,
      "outputs": []
    },
    {
      "cell_type": "code",
      "source": [
        "indices_movies = list(zip(list(movies['title']), range(movie_count)))\n",
        "indices_movies[:5]"
      ],
      "metadata": {
        "colab": {
          "base_uri": "https://localhost:8080/"
        },
        "id": "JzhdBmlmL8oM",
        "outputId": "037ae2a4-1fd0-48a9-8848-f4f2c48720a7"
      },
      "execution_count": 141,
      "outputs": [
        {
          "output_type": "execute_result",
          "data": {
            "text/plain": [
              "[('Sunset Boulevard', 0),\n",
              " ('His Girl Friday', 1),\n",
              " ('Red River', 2),\n",
              " ('The General', 3),\n",
              " ('The Kid', 4)]"
            ]
          },
          "metadata": {},
          "execution_count": 141
        }
      ]
    },
    {
      "cell_type": "code",
      "source": [
        "def movie_recommendations(title, movies=movies, indices_movies=indices_movies, cosine_sim_movies=cosine_sim_movies):\n",
        "  index = -1\n",
        "  for item in indices_movies:\n",
        "    if item[0] == title:\n",
        "      index = item[1]\n",
        "      break\n",
        "\n",
        "  if index == -1:\n",
        "    print('Title not found.')\n",
        "    return\n",
        "\n",
        "  print(f\"Title: {movies['title'].iloc[index]} |  Year: {movies['release_year'].iloc[index]}\")\n",
        "  print('**' * 40)\n",
        "\n",
        "  scores = list(enumerate(cosine_sim_movies[index]))\n",
        "  scores = sorted(scores, key=lambda x: x[1], reverse=True)\n",
        "  scores = scores[1:11]\n",
        "  indices = [item[0] for item in scores]\n",
        "\n",
        "  print(movies[['title', 'release_year','streaming_platform']].iloc[indices])\n",
        "  print('**' * 40)\n",
        "  return"
      ],
      "metadata": {
        "id": "-KlX5pyzMeks"
      },
      "execution_count": 142,
      "outputs": []
    },
    {
      "cell_type": "code",
      "source": [
        "movie_recommendations('The Dark Knight')"
      ],
      "metadata": {
        "colab": {
          "base_uri": "https://localhost:8080/"
        },
        "id": "QS8yoIcZP3QR",
        "outputId": "cd6f4747-b18a-4051-a7c1-607e578c4bdd"
      },
      "execution_count": 149,
      "outputs": [
        {
          "output_type": "stream",
          "name": "stdout",
          "text": [
            "Title: The Dark Knight |  Year: 2008\n",
            "********************************************************************************\n",
            "                                                   title  release_year  \\\n",
            "13844               Batman: The Long Halloween, Part Two          2021   \n",
            "13848               Batman: The Long Halloween, Part One          2021   \n",
            "12987                              The Dark Knight Rises          2012   \n",
            "12148                                             Batman          1989   \n",
            "13277                           Batman: The Killing Joke          2016   \n",
            "13760                                         The Batman          2022   \n",
            "13395                         Batman: Gotham by Gaslight          2018   \n",
            "12391                                     Batman Forever          1995   \n",
            "12397                       Batman: Mask of the Phantasm          1993   \n",
            "14541  Lego DC Comics - Super Heroes: Batman Be-Leagu...          2014   \n",
            "\n",
            "      streaming_platform  \n",
            "13844           [hbomax]  \n",
            "13848           [hbomax]  \n",
            "12987           [hbomax]  \n",
            "12148           [hbomax]  \n",
            "13277           [hbomax]  \n",
            "13760           [hbomax]  \n",
            "13395           [hbomax]  \n",
            "12391           [hbomax]  \n",
            "12397           [hbomax]  \n",
            "14541          [netflix]  \n",
            "********************************************************************************\n"
          ]
        }
      ]
    },
    {
      "cell_type": "code",
      "source": [
        "movie_recommendations('Creed')"
      ],
      "metadata": {
        "colab": {
          "base_uri": "https://localhost:8080/"
        },
        "id": "2-hxrUoQL4UQ",
        "outputId": "a9d602e9-74af-4417-db81-527d8ae70b55"
      },
      "execution_count": 145,
      "outputs": [
        {
          "output_type": "stream",
          "name": "stdout",
          "text": [
            "Title: Creed |  Year: 2015\n",
            "********************************************************************************\n",
            "                     title  release_year             streaming_platform\n",
            "558                  Rocky          1976  [amazon, netflix, paramount+]\n",
            "898              Rocky III          1982  [amazon, netflix, paramount+]\n",
            "562               Rocky II          1979  [amazon, netflix, paramount+]\n",
            "7994              Creed II          2018               [amazon, hbomax]\n",
            "1210          Rocky Balboa          2006           [amazon, paramount+]\n",
            "895               Rocky IV          1985  [amazon, netflix, paramount+]\n",
            "901                Rocky V          1990  [amazon, netflix, paramount+]\n",
            "831    The Joe Louis Story          1953           [amazon, paramount+]\n",
            "12455                Tyson          1995                       [hbomax]\n",
            "16406  Wish Upon a Unicorn          2020                      [netflix]\n",
            "********************************************************************************\n"
          ]
        }
      ]
    }
  ]
}
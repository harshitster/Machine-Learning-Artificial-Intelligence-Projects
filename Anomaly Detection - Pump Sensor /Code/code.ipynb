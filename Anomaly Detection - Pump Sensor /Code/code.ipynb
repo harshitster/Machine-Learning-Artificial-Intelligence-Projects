{
 "cells": [
  {
   "attachments": {},
   "cell_type": "markdown",
   "metadata": {},
   "source": [
    "Anomaly Detection, also known as outlier detection, is the identification of events or observations that deviate significantly from the majority of the data and do not conform to well-defined notion of normal behaviour. (S)ARIMA, a method for detecting deviation from static location parameters from the underlying distribution. It performs well when dealing with data points and events labeled \"anomaly\" with the binary classification logic. They are not designed to capture the temporal/spatial correlation pattern between the data points. "
   ]
  },
  {
   "attachments": {},
   "cell_type": "markdown",
   "metadata": {},
   "source": [
    "RNN - Autoencoder : The encoder is a NN trained to encode the input sequence into a compact representation called the latent vector. The decoder does the opposite by trying to reconstruct the input sequence starting from its compressed encoded representation. To determine whether an input sequence is anomalous, it is compared with autoencoder output. If the reconstruction error exceeds a chosen threshold, the sequence is considered anomalous."
   ]
  },
  {
   "attachments": {},
   "cell_type": "markdown",
   "metadata": {},
   "source": [
    "The training strategy to achieve high accuracy consists of training the autoencoder only on normal data, i.e., when the system that generates the data works properly. With the anamolous sequences, the output is expected to deviate significantly by at least a chosen meaningful threshold."
   ]
  },
  {
   "cell_type": "code",
   "execution_count": 102,
   "metadata": {},
   "outputs": [],
   "source": [
    "import pandas\n",
    "import matplotlib.pyplot as plt\n",
    "import numpy\n",
    "from tqdm import tqdm"
   ]
  },
  {
   "cell_type": "code",
   "execution_count": 103,
   "metadata": {},
   "outputs": [
    {
     "data": {
      "text/html": [
       "<div>\n",
       "<style scoped>\n",
       "    .dataframe tbody tr th:only-of-type {\n",
       "        vertical-align: middle;\n",
       "    }\n",
       "\n",
       "    .dataframe tbody tr th {\n",
       "        vertical-align: top;\n",
       "    }\n",
       "\n",
       "    .dataframe thead th {\n",
       "        text-align: right;\n",
       "    }\n",
       "</style>\n",
       "<table border=\"1\" class=\"dataframe\">\n",
       "  <thead>\n",
       "    <tr style=\"text-align: right;\">\n",
       "      <th></th>\n",
       "      <th>Unnamed: 0</th>\n",
       "      <th>timestamp</th>\n",
       "      <th>sensor_00</th>\n",
       "      <th>sensor_01</th>\n",
       "      <th>sensor_02</th>\n",
       "      <th>sensor_03</th>\n",
       "      <th>sensor_04</th>\n",
       "      <th>sensor_05</th>\n",
       "      <th>sensor_06</th>\n",
       "      <th>sensor_07</th>\n",
       "      <th>...</th>\n",
       "      <th>sensor_43</th>\n",
       "      <th>sensor_44</th>\n",
       "      <th>sensor_45</th>\n",
       "      <th>sensor_46</th>\n",
       "      <th>sensor_47</th>\n",
       "      <th>sensor_48</th>\n",
       "      <th>sensor_49</th>\n",
       "      <th>sensor_50</th>\n",
       "      <th>sensor_51</th>\n",
       "      <th>machine_status</th>\n",
       "    </tr>\n",
       "  </thead>\n",
       "  <tbody>\n",
       "    <tr>\n",
       "      <th>0</th>\n",
       "      <td>0</td>\n",
       "      <td>2018-04-01 00:00:00</td>\n",
       "      <td>2.465394</td>\n",
       "      <td>47.09201</td>\n",
       "      <td>53.2118</td>\n",
       "      <td>46.310760</td>\n",
       "      <td>634.3750</td>\n",
       "      <td>76.45975</td>\n",
       "      <td>13.41146</td>\n",
       "      <td>16.13136</td>\n",
       "      <td>...</td>\n",
       "      <td>41.92708</td>\n",
       "      <td>39.641200</td>\n",
       "      <td>65.68287</td>\n",
       "      <td>50.92593</td>\n",
       "      <td>38.194440</td>\n",
       "      <td>157.9861</td>\n",
       "      <td>67.70834</td>\n",
       "      <td>243.0556</td>\n",
       "      <td>201.3889</td>\n",
       "      <td>NORMAL</td>\n",
       "    </tr>\n",
       "    <tr>\n",
       "      <th>1</th>\n",
       "      <td>1</td>\n",
       "      <td>2018-04-01 00:01:00</td>\n",
       "      <td>2.465394</td>\n",
       "      <td>47.09201</td>\n",
       "      <td>53.2118</td>\n",
       "      <td>46.310760</td>\n",
       "      <td>634.3750</td>\n",
       "      <td>76.45975</td>\n",
       "      <td>13.41146</td>\n",
       "      <td>16.13136</td>\n",
       "      <td>...</td>\n",
       "      <td>41.92708</td>\n",
       "      <td>39.641200</td>\n",
       "      <td>65.68287</td>\n",
       "      <td>50.92593</td>\n",
       "      <td>38.194440</td>\n",
       "      <td>157.9861</td>\n",
       "      <td>67.70834</td>\n",
       "      <td>243.0556</td>\n",
       "      <td>201.3889</td>\n",
       "      <td>NORMAL</td>\n",
       "    </tr>\n",
       "    <tr>\n",
       "      <th>2</th>\n",
       "      <td>2</td>\n",
       "      <td>2018-04-01 00:02:00</td>\n",
       "      <td>2.444734</td>\n",
       "      <td>47.35243</td>\n",
       "      <td>53.2118</td>\n",
       "      <td>46.397570</td>\n",
       "      <td>638.8889</td>\n",
       "      <td>73.54598</td>\n",
       "      <td>13.32465</td>\n",
       "      <td>16.03733</td>\n",
       "      <td>...</td>\n",
       "      <td>41.66666</td>\n",
       "      <td>39.351852</td>\n",
       "      <td>65.39352</td>\n",
       "      <td>51.21528</td>\n",
       "      <td>38.194443</td>\n",
       "      <td>155.9606</td>\n",
       "      <td>67.12963</td>\n",
       "      <td>241.3194</td>\n",
       "      <td>203.7037</td>\n",
       "      <td>NORMAL</td>\n",
       "    </tr>\n",
       "    <tr>\n",
       "      <th>3</th>\n",
       "      <td>3</td>\n",
       "      <td>2018-04-01 00:03:00</td>\n",
       "      <td>2.460474</td>\n",
       "      <td>47.09201</td>\n",
       "      <td>53.1684</td>\n",
       "      <td>46.397568</td>\n",
       "      <td>628.1250</td>\n",
       "      <td>76.98898</td>\n",
       "      <td>13.31742</td>\n",
       "      <td>16.24711</td>\n",
       "      <td>...</td>\n",
       "      <td>40.88541</td>\n",
       "      <td>39.062500</td>\n",
       "      <td>64.81481</td>\n",
       "      <td>51.21528</td>\n",
       "      <td>38.194440</td>\n",
       "      <td>155.9606</td>\n",
       "      <td>66.84028</td>\n",
       "      <td>240.4514</td>\n",
       "      <td>203.1250</td>\n",
       "      <td>NORMAL</td>\n",
       "    </tr>\n",
       "    <tr>\n",
       "      <th>4</th>\n",
       "      <td>4</td>\n",
       "      <td>2018-04-01 00:04:00</td>\n",
       "      <td>2.445718</td>\n",
       "      <td>47.13541</td>\n",
       "      <td>53.2118</td>\n",
       "      <td>46.397568</td>\n",
       "      <td>636.4583</td>\n",
       "      <td>76.58897</td>\n",
       "      <td>13.35359</td>\n",
       "      <td>16.21094</td>\n",
       "      <td>...</td>\n",
       "      <td>41.40625</td>\n",
       "      <td>38.773150</td>\n",
       "      <td>65.10416</td>\n",
       "      <td>51.79398</td>\n",
       "      <td>38.773150</td>\n",
       "      <td>158.2755</td>\n",
       "      <td>66.55093</td>\n",
       "      <td>242.1875</td>\n",
       "      <td>201.3889</td>\n",
       "      <td>NORMAL</td>\n",
       "    </tr>\n",
       "  </tbody>\n",
       "</table>\n",
       "<p>5 rows × 55 columns</p>\n",
       "</div>"
      ],
      "text/plain": [
       "   Unnamed: 0            timestamp  sensor_00  sensor_01  sensor_02  \\\n",
       "0           0  2018-04-01 00:00:00   2.465394   47.09201    53.2118   \n",
       "1           1  2018-04-01 00:01:00   2.465394   47.09201    53.2118   \n",
       "2           2  2018-04-01 00:02:00   2.444734   47.35243    53.2118   \n",
       "3           3  2018-04-01 00:03:00   2.460474   47.09201    53.1684   \n",
       "4           4  2018-04-01 00:04:00   2.445718   47.13541    53.2118   \n",
       "\n",
       "   sensor_03  sensor_04  sensor_05  sensor_06  sensor_07  ...  sensor_43  \\\n",
       "0  46.310760   634.3750   76.45975   13.41146   16.13136  ...   41.92708   \n",
       "1  46.310760   634.3750   76.45975   13.41146   16.13136  ...   41.92708   \n",
       "2  46.397570   638.8889   73.54598   13.32465   16.03733  ...   41.66666   \n",
       "3  46.397568   628.1250   76.98898   13.31742   16.24711  ...   40.88541   \n",
       "4  46.397568   636.4583   76.58897   13.35359   16.21094  ...   41.40625   \n",
       "\n",
       "   sensor_44  sensor_45  sensor_46  sensor_47  sensor_48  sensor_49  \\\n",
       "0  39.641200   65.68287   50.92593  38.194440   157.9861   67.70834   \n",
       "1  39.641200   65.68287   50.92593  38.194440   157.9861   67.70834   \n",
       "2  39.351852   65.39352   51.21528  38.194443   155.9606   67.12963   \n",
       "3  39.062500   64.81481   51.21528  38.194440   155.9606   66.84028   \n",
       "4  38.773150   65.10416   51.79398  38.773150   158.2755   66.55093   \n",
       "\n",
       "   sensor_50  sensor_51  machine_status  \n",
       "0   243.0556   201.3889          NORMAL  \n",
       "1   243.0556   201.3889          NORMAL  \n",
       "2   241.3194   203.7037          NORMAL  \n",
       "3   240.4514   203.1250          NORMAL  \n",
       "4   242.1875   201.3889          NORMAL  \n",
       "\n",
       "[5 rows x 55 columns]"
      ]
     },
     "execution_count": 103,
     "metadata": {},
     "output_type": "execute_result"
    }
   ],
   "source": [
    "dataframe = pandas.read_csv('/Applications/ML projects/Anomaly Detection - Pump Sensor /Dataset/sensor.csv')\n",
    "dataframe.head()"
   ]
  },
  {
   "cell_type": "code",
   "execution_count": 104,
   "metadata": {},
   "outputs": [
    {
     "data": {
      "text/plain": [
       "['NORMAL', 'NORMAL', 'NORMAL', 'NORMAL', 'NORMAL']"
      ]
     },
     "execution_count": 104,
     "metadata": {},
     "output_type": "execute_result"
    }
   ],
   "source": [
    "machine_status = list(dataframe['machine_status'])\n",
    "machine_status[:5]"
   ]
  },
  {
   "cell_type": "code",
   "execution_count": 105,
   "metadata": {},
   "outputs": [
    {
     "data": {
      "text/html": [
       "<div>\n",
       "<style scoped>\n",
       "    .dataframe tbody tr th:only-of-type {\n",
       "        vertical-align: middle;\n",
       "    }\n",
       "\n",
       "    .dataframe tbody tr th {\n",
       "        vertical-align: top;\n",
       "    }\n",
       "\n",
       "    .dataframe thead th {\n",
       "        text-align: right;\n",
       "    }\n",
       "</style>\n",
       "<table border=\"1\" class=\"dataframe\">\n",
       "  <thead>\n",
       "    <tr style=\"text-align: right;\">\n",
       "      <th></th>\n",
       "      <th>Unnamed: 0</th>\n",
       "      <th>timestamp</th>\n",
       "      <th>sensor_00</th>\n",
       "      <th>sensor_01</th>\n",
       "      <th>sensor_02</th>\n",
       "      <th>sensor_03</th>\n",
       "      <th>sensor_04</th>\n",
       "      <th>sensor_05</th>\n",
       "      <th>sensor_06</th>\n",
       "      <th>sensor_07</th>\n",
       "      <th>...</th>\n",
       "      <th>sensor_43</th>\n",
       "      <th>sensor_44</th>\n",
       "      <th>sensor_45</th>\n",
       "      <th>sensor_46</th>\n",
       "      <th>sensor_47</th>\n",
       "      <th>sensor_48</th>\n",
       "      <th>sensor_49</th>\n",
       "      <th>sensor_50</th>\n",
       "      <th>sensor_51</th>\n",
       "      <th>target</th>\n",
       "    </tr>\n",
       "  </thead>\n",
       "  <tbody>\n",
       "    <tr>\n",
       "      <th>0</th>\n",
       "      <td>0</td>\n",
       "      <td>2018-04-01 00:00:00</td>\n",
       "      <td>2.465394</td>\n",
       "      <td>47.09201</td>\n",
       "      <td>53.2118</td>\n",
       "      <td>46.310760</td>\n",
       "      <td>634.3750</td>\n",
       "      <td>76.45975</td>\n",
       "      <td>13.41146</td>\n",
       "      <td>16.13136</td>\n",
       "      <td>...</td>\n",
       "      <td>41.92708</td>\n",
       "      <td>39.641200</td>\n",
       "      <td>65.68287</td>\n",
       "      <td>50.92593</td>\n",
       "      <td>38.194440</td>\n",
       "      <td>157.9861</td>\n",
       "      <td>67.70834</td>\n",
       "      <td>243.0556</td>\n",
       "      <td>201.3889</td>\n",
       "      <td>0</td>\n",
       "    </tr>\n",
       "    <tr>\n",
       "      <th>1</th>\n",
       "      <td>1</td>\n",
       "      <td>2018-04-01 00:01:00</td>\n",
       "      <td>2.465394</td>\n",
       "      <td>47.09201</td>\n",
       "      <td>53.2118</td>\n",
       "      <td>46.310760</td>\n",
       "      <td>634.3750</td>\n",
       "      <td>76.45975</td>\n",
       "      <td>13.41146</td>\n",
       "      <td>16.13136</td>\n",
       "      <td>...</td>\n",
       "      <td>41.92708</td>\n",
       "      <td>39.641200</td>\n",
       "      <td>65.68287</td>\n",
       "      <td>50.92593</td>\n",
       "      <td>38.194440</td>\n",
       "      <td>157.9861</td>\n",
       "      <td>67.70834</td>\n",
       "      <td>243.0556</td>\n",
       "      <td>201.3889</td>\n",
       "      <td>0</td>\n",
       "    </tr>\n",
       "    <tr>\n",
       "      <th>2</th>\n",
       "      <td>2</td>\n",
       "      <td>2018-04-01 00:02:00</td>\n",
       "      <td>2.444734</td>\n",
       "      <td>47.35243</td>\n",
       "      <td>53.2118</td>\n",
       "      <td>46.397570</td>\n",
       "      <td>638.8889</td>\n",
       "      <td>73.54598</td>\n",
       "      <td>13.32465</td>\n",
       "      <td>16.03733</td>\n",
       "      <td>...</td>\n",
       "      <td>41.66666</td>\n",
       "      <td>39.351852</td>\n",
       "      <td>65.39352</td>\n",
       "      <td>51.21528</td>\n",
       "      <td>38.194443</td>\n",
       "      <td>155.9606</td>\n",
       "      <td>67.12963</td>\n",
       "      <td>241.3194</td>\n",
       "      <td>203.7037</td>\n",
       "      <td>0</td>\n",
       "    </tr>\n",
       "    <tr>\n",
       "      <th>3</th>\n",
       "      <td>3</td>\n",
       "      <td>2018-04-01 00:03:00</td>\n",
       "      <td>2.460474</td>\n",
       "      <td>47.09201</td>\n",
       "      <td>53.1684</td>\n",
       "      <td>46.397568</td>\n",
       "      <td>628.1250</td>\n",
       "      <td>76.98898</td>\n",
       "      <td>13.31742</td>\n",
       "      <td>16.24711</td>\n",
       "      <td>...</td>\n",
       "      <td>40.88541</td>\n",
       "      <td>39.062500</td>\n",
       "      <td>64.81481</td>\n",
       "      <td>51.21528</td>\n",
       "      <td>38.194440</td>\n",
       "      <td>155.9606</td>\n",
       "      <td>66.84028</td>\n",
       "      <td>240.4514</td>\n",
       "      <td>203.1250</td>\n",
       "      <td>0</td>\n",
       "    </tr>\n",
       "    <tr>\n",
       "      <th>4</th>\n",
       "      <td>4</td>\n",
       "      <td>2018-04-01 00:04:00</td>\n",
       "      <td>2.445718</td>\n",
       "      <td>47.13541</td>\n",
       "      <td>53.2118</td>\n",
       "      <td>46.397568</td>\n",
       "      <td>636.4583</td>\n",
       "      <td>76.58897</td>\n",
       "      <td>13.35359</td>\n",
       "      <td>16.21094</td>\n",
       "      <td>...</td>\n",
       "      <td>41.40625</td>\n",
       "      <td>38.773150</td>\n",
       "      <td>65.10416</td>\n",
       "      <td>51.79398</td>\n",
       "      <td>38.773150</td>\n",
       "      <td>158.2755</td>\n",
       "      <td>66.55093</td>\n",
       "      <td>242.1875</td>\n",
       "      <td>201.3889</td>\n",
       "      <td>0</td>\n",
       "    </tr>\n",
       "  </tbody>\n",
       "</table>\n",
       "<p>5 rows × 55 columns</p>\n",
       "</div>"
      ],
      "text/plain": [
       "   Unnamed: 0            timestamp  sensor_00  sensor_01  sensor_02  \\\n",
       "0           0  2018-04-01 00:00:00   2.465394   47.09201    53.2118   \n",
       "1           1  2018-04-01 00:01:00   2.465394   47.09201    53.2118   \n",
       "2           2  2018-04-01 00:02:00   2.444734   47.35243    53.2118   \n",
       "3           3  2018-04-01 00:03:00   2.460474   47.09201    53.1684   \n",
       "4           4  2018-04-01 00:04:00   2.445718   47.13541    53.2118   \n",
       "\n",
       "   sensor_03  sensor_04  sensor_05  sensor_06  sensor_07  ...  sensor_43  \\\n",
       "0  46.310760   634.3750   76.45975   13.41146   16.13136  ...   41.92708   \n",
       "1  46.310760   634.3750   76.45975   13.41146   16.13136  ...   41.92708   \n",
       "2  46.397570   638.8889   73.54598   13.32465   16.03733  ...   41.66666   \n",
       "3  46.397568   628.1250   76.98898   13.31742   16.24711  ...   40.88541   \n",
       "4  46.397568   636.4583   76.58897   13.35359   16.21094  ...   41.40625   \n",
       "\n",
       "   sensor_44  sensor_45  sensor_46  sensor_47  sensor_48  sensor_49  \\\n",
       "0  39.641200   65.68287   50.92593  38.194440   157.9861   67.70834   \n",
       "1  39.641200   65.68287   50.92593  38.194440   157.9861   67.70834   \n",
       "2  39.351852   65.39352   51.21528  38.194443   155.9606   67.12963   \n",
       "3  39.062500   64.81481   51.21528  38.194440   155.9606   66.84028   \n",
       "4  38.773150   65.10416   51.79398  38.773150   158.2755   66.55093   \n",
       "\n",
       "   sensor_50  sensor_51  target  \n",
       "0   243.0556   201.3889       0  \n",
       "1   243.0556   201.3889       0  \n",
       "2   241.3194   203.7037       0  \n",
       "3   240.4514   203.1250       0  \n",
       "4   242.1875   201.3889       0  \n",
       "\n",
       "[5 rows x 55 columns]"
      ]
     },
     "execution_count": 105,
     "metadata": {},
     "output_type": "execute_result"
    }
   ],
   "source": [
    "target = list()\n",
    "for status in machine_status:\n",
    "    if status == 'NORMAL':\n",
    "        target.append('0')\n",
    "    else:\n",
    "        target.append('1')\n",
    "dataframe.drop('machine_status', axis=1, inplace=True)\n",
    "dataframe['target'] = target\n",
    "dataframe.head()"
   ]
  },
  {
   "cell_type": "code",
   "execution_count": 106,
   "metadata": {},
   "outputs": [
    {
     "data": {
      "image/png": "[encoded data removed]",
      "text/plain": [
       "<Figure size 432x288 with 1 Axes>"
      ]
     },
     "metadata": {
      "needs_background": "light"
     },
     "output_type": "display_data"
    }
   ],
   "source": [
    "target_series = pandas.Series(target)\n",
    "target_counts = target_series.value_counts()\n",
    "plt.bar(target_counts.index, target_counts.values)\n",
    "plt.xlabel('Values')\n",
    "plt.ylabel('Count')\n",
    "plt.title(\"Count of '0' and '1'\")\n",
    "plt.show()"
   ]
  },
  {
   "cell_type": "code",
   "execution_count": 107,
   "metadata": {},
   "outputs": [
    {
     "name": "stdout",
     "output_type": "stream",
     "text": [
      "[53.2118, 53.2118, 53.2118, 53.1684, 53.2118] ['0', '0', '0', '0', '0']\n"
     ]
    }
   ],
   "source": [
    "sensor_02 = list(dataframe['sensor_02'])\n",
    "target = list(dataframe['target'])\n",
    "print(sensor_02[:5], target[:5])"
   ]
  },
  {
   "cell_type": "code",
   "execution_count": 108,
   "metadata": {},
   "outputs": [
    {
     "data": {
      "image/png": "[encoded data removed]",
      "text/plain": [
       "<Figure size 432x288 with 1 Axes>"
      ]
     },
     "metadata": {
      "needs_background": "light"
     },
     "output_type": "display_data"
    }
   ],
   "source": [
    "sensor_02_series = pandas.Series(sensor_02)\n",
    "plt.plot(range(1, len(sensor_02) + 1), sensor_02_series)\n",
    "plt.ylabel('Sensor 02')\n",
    "plt.title('Fluctations')\n",
    "plt.show()"
   ]
  },
  {
   "cell_type": "code",
   "execution_count": 111,
   "metadata": {},
   "outputs": [],
   "source": [
    "sensor_02 = numpy.array(sensor_02)\n",
    "target = numpy.array(target)"
   ]
  },
  {
   "cell_type": "code",
   "execution_count": 112,
   "metadata": {},
   "outputs": [
    {
     "data": {
      "text/plain": [
       "True"
      ]
     },
     "execution_count": 112,
     "metadata": {},
     "output_type": "execute_result"
    }
   ],
   "source": [
    "numpy.isnan(sensor_02).any()"
   ]
  },
  {
   "cell_type": "code",
   "execution_count": 113,
   "metadata": {},
   "outputs": [],
   "source": [
    "mask = numpy.isnan(sensor_02)\n",
    "sensor_02 = numpy.array(list(sensor_02[~mask]))\n",
    "target = numpy.array(list(target[~mask]))"
   ]
  },
  {
   "cell_type": "code",
   "execution_count": 116,
   "metadata": {},
   "outputs": [
    {
     "name": "stdout",
     "output_type": "stream",
     "text": [
      "220301 220320\n"
     ]
    }
   ],
   "source": [
    "print(len(sensor_02), len(dataframe['sensor_02']))"
   ]
  },
  {
   "cell_type": "code",
   "execution_count": 119,
   "metadata": {},
   "outputs": [
    {
     "data": {
      "text/plain": [
       "(205822,)"
      ]
     },
     "execution_count": 119,
     "metadata": {},
     "output_type": "execute_result"
    }
   ],
   "source": [
    "normal_points = list()\n",
    "for idx in range(len(sensor_02)):\n",
    "    if target[idx] == '0':\n",
    "        normal_points.append(sensor_02[idx])\n",
    "normal_points = numpy.array(normal_points)\n",
    "normal_points.shape"
   ]
  },
  {
   "cell_type": "code",
   "execution_count": 91,
   "metadata": {},
   "outputs": [],
   "source": [
    "from torch import nn\n",
    "import torch\n",
    "import copy"
   ]
  },
  {
   "cell_type": "code",
   "execution_count": 120,
   "metadata": {},
   "outputs": [],
   "source": [
    "sensor_02_tensor = torch.from_numpy(sensor_02)\n",
    "normal_points = torch.from_numpy(normal_points)"
   ]
  },
  {
   "cell_type": "code",
   "execution_count": 121,
   "metadata": {},
   "outputs": [],
   "source": [
    "mean = normal_points.mean()\n",
    "std = normal_points.std()"
   ]
  },
  {
   "cell_type": "code",
   "execution_count": 122,
   "metadata": {},
   "outputs": [
    {
     "name": "stdout",
     "output_type": "stream",
     "text": [
      "tensor(51.6369, dtype=torch.float64) tensor(1.8783, dtype=torch.float64)\n"
     ]
    }
   ],
   "source": [
    "print(mean, std)"
   ]
  },
  {
   "cell_type": "code",
   "execution_count": 123,
   "metadata": {},
   "outputs": [],
   "source": [
    "normalized_s02_tensor = (sensor_02_tensor - mean) / std"
   ]
  },
  {
   "cell_type": "code",
   "execution_count": 124,
   "metadata": {},
   "outputs": [
    {
     "data": {
      "text/plain": [
       "tensor(0.8384, dtype=torch.float64)"
      ]
     },
     "execution_count": 124,
     "metadata": {},
     "output_type": "execute_result"
    }
   ],
   "source": [
    "normalized_s02_tensor[0]"
   ]
  },
  {
   "cell_type": "code",
   "execution_count": 125,
   "metadata": {},
   "outputs": [
    {
     "name": "stdout",
     "output_type": "stream",
     "text": [
      "220301 220301\n"
     ]
    }
   ],
   "source": [
    "print(len(normalized_s02_tensor), len(target))"
   ]
  },
  {
   "cell_type": "code",
   "execution_count": 133,
   "metadata": {},
   "outputs": [
    {
     "name": "stderr",
     "output_type": "stream",
     "text": [
      "100%|█████████▉| 4895/4896 [00:00<00:00, 7473.29it/s]\n"
     ]
    }
   ],
   "source": [
    "hourly_sequences = list()\n",
    "target_counts = list()\n",
    "for i in tqdm(range(0, len(normalized_s02_tensor), 45)):\n",
    "    sequence = []\n",
    "    target_count = 0\n",
    "    if i + 60 > len(sensor_02):\n",
    "        break\n",
    "    for j in range(i, i + 60):\n",
    "        sequence.append(normalized_s02_tensor[j])\n",
    "        if target[j] != '0':\n",
    "            target_count += 1\n",
    "    hourly_sequences.append(torch.stack(sequence))\n",
    "    target_counts.append(target_count)"
   ]
  },
  {
   "cell_type": "code",
   "execution_count": 134,
   "metadata": {},
   "outputs": [],
   "source": [
    "hourly_sequences_tensor = torch.stack(hourly_sequences)\n",
    "target_counts_tensor = torch.tensor(target_counts)"
   ]
  },
  {
   "cell_type": "code",
   "execution_count": 135,
   "metadata": {},
   "outputs": [
    {
     "data": {
      "text/plain": [
       "torch.Size([4895, 60])"
      ]
     },
     "execution_count": 135,
     "metadata": {},
     "output_type": "execute_result"
    }
   ],
   "source": [
    "hourly_sequences_tensor.shape"
   ]
  },
  {
   "cell_type": "code",
   "execution_count": 136,
   "metadata": {},
   "outputs": [
    {
     "data": {
      "text/plain": [
       "torch.Size([4895])"
      ]
     },
     "execution_count": 136,
     "metadata": {},
     "output_type": "execute_result"
    }
   ],
   "source": [
    "target_counts_tensor.shape"
   ]
  },
  {
   "cell_type": "code",
   "execution_count": 137,
   "metadata": {},
   "outputs": [
    {
     "name": "stdout",
     "output_type": "stream",
     "text": [
      "tensor([0.8384, 0.8384, 0.8384, 0.8153, 0.8384, 0.8153, 0.8153, 0.8153, 0.8153,\n",
      "        0.8153, 0.7922, 0.8153, 0.7922, 0.8153, 0.8153, 0.7922, 0.8153, 1.0926,\n",
      "        0.7922, 0.8153, 0.7460, 0.7922, 0.7922, 0.8153, 0.7460, 0.8153, 0.8153,\n",
      "        0.7922, 0.8153, 0.7922, 0.7922, 0.7922, 0.7460, 0.7922, 0.7922, 0.7922,\n",
      "        0.7922, 0.7460, 0.7922, 0.7922, 0.7922, 0.7922, 0.7922, 0.7922, 0.7922,\n",
      "        0.7460, 0.7922, 0.7460, 0.7922, 0.7922, 0.7922, 0.7922, 0.7922, 0.7922,\n",
      "        0.7460, 0.7922, 0.7922, 0.8153, 0.7922, 0.8153], dtype=torch.float64)\n"
     ]
    }
   ],
   "source": [
    "print(hourly_sequences_tensor[0])"
   ]
  },
  {
   "cell_type": "code",
   "execution_count": 138,
   "metadata": {},
   "outputs": [
    {
     "data": {
      "text/plain": [
       "tensor(0)"
      ]
     },
     "execution_count": 138,
     "metadata": {},
     "output_type": "execute_result"
    }
   ],
   "source": [
    "target_counts_tensor[0]"
   ]
  },
  {
   "cell_type": "code",
   "execution_count": 141,
   "metadata": {},
   "outputs": [
    {
     "name": "stdout",
     "output_type": "stream",
     "text": [
      "[tensor(5), tensor(50), tensor(55), tensor(10), tensor(30), tensor(35), tensor(6), tensor(51), tensor(17), tensor(39), tensor(42), tensor(9), tensor(54), tensor(23), tensor(17), tensor(40), tensor(1), tensor(46), tensor(45)]\n"
     ]
    }
   ],
   "source": [
    "anomalies = list()\n",
    "for idx in range(len(target_counts_tensor)):\n",
    "    if target_counts_tensor[idx] != 0 and target_counts_tensor[idx] != 60:\n",
    "        anomalies.append(target_counts_tensor[idx])\n",
    "print(anomalies)"
   ]
  },
  {
   "cell_type": "code",
   "execution_count": 142,
   "metadata": {},
   "outputs": [],
   "source": [
    "anomaly_sequences = list()\n",
    "normal_sequences = list()\n",
    "for idx in range(len(target_counts_tensor)):\n",
    "    if target_counts_tensor[idx] in anomalies:\n",
    "        anomaly_sequences.append(hourly_sequences_tensor[idx])\n",
    "    else:\n",
    "        normal_sequences.append(hourly_sequences_tensor[idx])\n",
    "normal_sequences = torch.stack(normal_sequences)\n",
    "anomaly_sequences = torch.stack(anomaly_sequences)"
   ]
  },
  {
   "cell_type": "code",
   "execution_count": 143,
   "metadata": {},
   "outputs": [
    {
     "data": {
      "text/plain": [
       "torch.Size([4876, 60])"
      ]
     },
     "execution_count": 143,
     "metadata": {},
     "output_type": "execute_result"
    }
   ],
   "source": [
    "normal_sequences.shape"
   ]
  },
  {
   "cell_type": "code",
   "execution_count": 144,
   "metadata": {},
   "outputs": [
    {
     "data": {
      "text/plain": [
       "torch.Size([19, 60])"
      ]
     },
     "execution_count": 144,
     "metadata": {},
     "output_type": "execute_result"
    }
   ],
   "source": [
    "anomaly_sequences.shape"
   ]
  },
  {
   "cell_type": "code",
   "execution_count": 172,
   "metadata": {},
   "outputs": [],
   "source": [
    "import random"
   ]
  },
  {
   "cell_type": "code",
   "execution_count": 179,
   "metadata": {},
   "outputs": [
    {
     "name": "stdout",
     "output_type": "stream",
     "text": [
      "torch.Size([4144, 60]) torch.Size([244, 60]) torch.Size([488, 60])\n"
     ]
    }
   ],
   "source": [
    "temp = list(normal_sequences)\n",
    "random.shuffle(temp)\n",
    "normal_sequences = torch.stack(temp)\n",
    "train_pivot = int(0.85 * len(normal_sequences))\n",
    "val_pivot = int(0.90 * len(normal_sequences))\n",
    "train_dataset = normal_sequences[:train_pivot].float()\n",
    "val_dataset = normal_sequences[train_pivot:val_pivot].float()\n",
    "test_dataset = normal_sequences[val_pivot:].float()\n",
    "print(train_dataset.shape, val_dataset.shape, test_dataset.shape)"
   ]
  },
  {
   "cell_type": "code",
   "execution_count": 186,
   "metadata": {},
   "outputs": [],
   "source": [
    "class LSTM_Encoder(nn.Module):\n",
    "    def __init__(self, n_features=1, seq_len=60, embedding_dim=20):\n",
    "        super(LSTM_Encoder, self).__init__()\n",
    "        self.n_features = n_features\n",
    "        self.seq_len = seq_len\n",
    "        self.embedding_dim = embedding_dim\n",
    "        self.rnn = nn.LSTM(\n",
    "            input_size=n_features,\n",
    "            hidden_size=embedding_dim,\n",
    "            num_layers=1,\n",
    "            batch_first=True\n",
    "        )\n",
    "\n",
    "    def forward(self, x):\n",
    "        x = x.reshape((1, self.seq_len, self.n_features))\n",
    "        _, (hidden_n, _) = self.rnn(x)\n",
    "        return hidden_n.reshape((self.n_features, self.embedding_dim))"
   ]
  },
  {
   "cell_type": "code",
   "execution_count": 187,
   "metadata": {},
   "outputs": [],
   "source": [
    "class LSTM_Decoder(nn.Module):\n",
    "  def __init__(self, n_features=1, seq_len=60, input_dim=20):\n",
    "    super(LSTM_Decoder, self).__init__()\n",
    "    self.seq_len = seq_len\n",
    "    self.input_dim = input_dim\n",
    "    self.hidden_dim = 2 * input_dim\n",
    "    self.n_features = n_features\n",
    "    self.rnn = nn.LSTM(\n",
    "      input_size=input_dim,\n",
    "      hidden_size=self.hidden_dim,\n",
    "      num_layers=1,\n",
    "      batch_first=True\n",
    "    )\n",
    "    self.output_layer = nn.Linear(self.hidden_dim, n_features)\n",
    "\n",
    "  def forward(self, x):\n",
    "    x = x.repeat(self.seq_len, self.n_features)\n",
    "    x = x.reshape((self.n_features, self.seq_len, self.input_dim))\n",
    "    x, (hidden_n, cell_n) = self.rnn(x)\n",
    "    x = x.reshape((self.seq_len, self.hidden_dim))\n",
    "    return self.output_layer(x)"
   ]
  },
  {
   "cell_type": "code",
   "execution_count": 188,
   "metadata": {},
   "outputs": [],
   "source": [
    "class LSTM_Model(nn.Module):\n",
    "    def __init__(self, n_features=1, seq_len=60, embedding_dim=20):\n",
    "        super(LSTM_Model, self).__init__()\n",
    "        self.encoder = LSTM_Encoder(n_features, seq_len, embedding_dim)\n",
    "        self.decoder = LSTM_Decoder(n_features, seq_len, embedding_dim)\n",
    "\n",
    "    def forward(self, x):\n",
    "        encoded = self.encoder(x)\n",
    "        decoded = self.decoder(encoded)\n",
    "        return decoded"
   ]
  },
  {
   "cell_type": "code",
   "execution_count": 189,
   "metadata": {},
   "outputs": [],
   "source": [
    "model = LSTM_Model()"
   ]
  },
  {
   "cell_type": "code",
   "execution_count": 190,
   "metadata": {},
   "outputs": [],
   "source": [
    "device = torch.device(\"cuda\" if torch.cuda.is_available() else \"cpu\")\n",
    "optimizer = torch.optim.Adam(model.parameters(), lr=1e-3)\n",
    "criterion = nn.L1Loss(reduction='sum').to(device)\n",
    "history = dict(train=[], val=[])\n",
    "best_loss = 10000.0\n",
    "best_model_wts = copy.deepcopy(model.state_dict())"
   ]
  },
  {
   "cell_type": "code",
   "execution_count": 191,
   "metadata": {},
   "outputs": [
    {
     "name": "stdout",
     "output_type": "stream",
     "text": [
      "EPOCH - 0 : Train Loss = 9.730366530479381 ,Val Loss = 6.5627237333626045\n",
      "EPOCH - 1 : Train Loss = 5.918979464659762 ,Val Loss = 4.658695156456994\n",
      "EPOCH - 2 : Train Loss = 5.343626740838052 ,Val Loss = 4.67709760856433\n",
      "EPOCH - 3 : Train Loss = 5.271744716783058 ,Val Loss = 4.647610988773283\n",
      "EPOCH - 4 : Train Loss = 5.093035379431883 ,Val Loss = 4.603785372659808\n",
      "EPOCH - 5 : Train Loss = 5.08066578632271 ,Val Loss = 4.595159101681631\n",
      "EPOCH - 6 : Train Loss = 4.8739126288695225 ,Val Loss = 4.227036839381594\n",
      "EPOCH - 7 : Train Loss = 4.880776775907366 ,Val Loss = 4.558957164649104\n",
      "EPOCH - 8 : Train Loss = 4.891469637320366 ,Val Loss = 4.318388424203044\n",
      "EPOCH - 9 : Train Loss = 4.763186429033926 ,Val Loss = 4.426135258840733\n",
      "EPOCH - 10 : Train Loss = 4.719174558203308 ,Val Loss = 4.706249082186183\n",
      "EPOCH - 11 : Train Loss = 4.531845506424494 ,Val Loss = 4.567164915995519\n",
      "EPOCH - 12 : Train Loss = 4.619096744848725 ,Val Loss = 4.195234423778096\n",
      "EPOCH - 13 : Train Loss = 4.5046179584123225 ,Val Loss = 4.562034339445536\n",
      "EPOCH - 14 : Train Loss = 4.498454997308811 ,Val Loss = 4.490415769033745\n",
      "EPOCH - 15 : Train Loss = 4.418662677155844 ,Val Loss = 4.2858259890411725\n",
      "EPOCH - 16 : Train Loss = 4.372243945145239 ,Val Loss = 4.158809009389799\n",
      "EPOCH - 17 : Train Loss = 4.323515442591952 ,Val Loss = 4.1815404251950685\n",
      "EPOCH - 18 : Train Loss = 4.234402212368245 ,Val Loss = 3.922521604377715\n",
      "EPOCH - 19 : Train Loss = 4.136560201616131 ,Val Loss = 3.816520312281906\n",
      "EPOCH - 20 : Train Loss = 3.9893369048359197 ,Val Loss = 4.1714390350169825\n",
      "EPOCH - 21 : Train Loss = 3.8220018267947964 ,Val Loss = 3.8887768592990812\n",
      "EPOCH - 22 : Train Loss = 3.7510233622648426 ,Val Loss = 3.816765542401642\n",
      "EPOCH - 23 : Train Loss = 3.5934334061033018 ,Val Loss = 3.9108761817705435\n",
      "EPOCH - 24 : Train Loss = 3.4470327499980633 ,Val Loss = 3.6263039436985234\n",
      "EPOCH - 25 : Train Loss = 3.3209158404510912 ,Val Loss = 3.623735473292773\n",
      "EPOCH - 26 : Train Loss = 3.2135409317105204 ,Val Loss = 3.513862664826581\n",
      "EPOCH - 27 : Train Loss = 3.1217370898279446 ,Val Loss = 3.2012778686695413\n",
      "EPOCH - 28 : Train Loss = 2.9136491367399233 ,Val Loss = 2.9643351640857634\n",
      "EPOCH - 29 : Train Loss = 2.5765247490817975 ,Val Loss = 2.74559050773988\n",
      "EPOCH - 30 : Train Loss = 2.412764430916275 ,Val Loss = 2.3475936849097736\n",
      "EPOCH - 31 : Train Loss = 2.3372392426730353 ,Val Loss = 2.3406045565106828\n",
      "EPOCH - 32 : Train Loss = 2.25039037977953 ,Val Loss = 2.261705415170701\n",
      "EPOCH - 33 : Train Loss = 2.1688434783671355 ,Val Loss = 2.8040059394523746\n",
      "EPOCH - 34 : Train Loss = 2.133768592792128 ,Val Loss = 1.7419392534943878\n",
      "EPOCH - 35 : Train Loss = 2.0484479247344276 ,Val Loss = 2.428094161582775\n",
      "EPOCH - 36 : Train Loss = 2.037803615188104 ,Val Loss = 2.2080119679697225\n",
      "EPOCH - 37 : Train Loss = 1.9922218600208925 ,Val Loss = 2.460289157316333\n",
      "EPOCH - 38 : Train Loss = 1.9567050565767703 ,Val Loss = 2.1617851188925448\n",
      "EPOCH - 39 : Train Loss = 1.9241569238970178 ,Val Loss = 1.924622665052531\n",
      "EPOCH - 40 : Train Loss = 2.0272005129835664 ,Val Loss = 2.3870129233501\n",
      "EPOCH - 41 : Train Loss = 1.9025837292096444 ,Val Loss = 1.7822786090803928\n",
      "EPOCH - 42 : Train Loss = 1.8649168627185595 ,Val Loss = 1.8019384895680381\n",
      "EPOCH - 43 : Train Loss = 1.8126277219374667 ,Val Loss = 1.6272402073516221\n",
      "EPOCH - 44 : Train Loss = 1.8048564805127825 ,Val Loss = 1.4602834711797903\n",
      "EPOCH - 45 : Train Loss = 1.793398439093101 ,Val Loss = 1.5754562215726884\n",
      "EPOCH - 46 : Train Loss = 1.7333243960104738 ,Val Loss = 1.513602730924966\n",
      "EPOCH - 47 : Train Loss = 1.757606925349323 ,Val Loss = 1.5350447646418557\n",
      "EPOCH - 48 : Train Loss = 1.7155951990540999 ,Val Loss = 1.613935664051869\n",
      "EPOCH - 49 : Train Loss = 1.7075380934006805 ,Val Loss = 1.6177693903446198\n"
     ]
    }
   ],
   "source": [
    "for epoch in range(50):\n",
    "    model = model.train()\n",
    "    train_losses = []\n",
    "    for seq in train_dataset:\n",
    "        seq = seq.to(device)\n",
    "        pred_seq = model(seq)\n",
    "        pred_seq = pred_seq.reshape(seq.shape)\n",
    "        loss = criterion(pred_seq, seq)\n",
    "        optimizer.zero_grad()\n",
    "        loss.backward()\n",
    "        optimizer.step()\n",
    "        train_losses.append(loss.item())\n",
    "\n",
    "    val_losses = []\n",
    "    model = model.eval()\n",
    "    with torch.no_grad():\n",
    "        for seq in val_dataset:\n",
    "            seq = seq.to(device)\n",
    "            pred_seq = model(seq)\n",
    "            pred_seq = pred_seq.reshape(seq.shape)\n",
    "            loss = criterion(pred_seq, seq)\n",
    "            val_losses.append(loss.item())\n",
    "\n",
    "    train_loss = numpy.mean(train_losses)\n",
    "    val_loss   = numpy.mean(val_losses)\n",
    "\n",
    "    history['train'].append(train_loss)\n",
    "    history['val'].append(val_loss)\n",
    "\n",
    "    if val_loss < best_loss:\n",
    "        best_loss = val_loss\n",
    "        best_model_wts = copy.deepcopy(model.state_dict())\n",
    "\n",
    "    print(\"EPOCH - \" + str(epoch) + \" : Train Loss = \" + str(train_loss) + \" ,Val Loss = \" + str(val_loss))"
   ]
  },
  {
   "cell_type": "code",
   "execution_count": 258,
   "metadata": {},
   "outputs": [
    {
     "data": {
      "image/png": "[encoded data removed]",
      "text/plain": [
       "<Figure size 432x288 with 1 Axes>"
      ]
     },
     "metadata": {
      "needs_background": "light"
     },
     "output_type": "display_data"
    }
   ],
   "source": [
    "epochs = range(1, len(history['train']) + 1)\n",
    "plt.plot(epochs, history['train'], 'b', label='Train Loss')\n",
    "plt.plot(epochs, history['val'], 'r', label='Validation Loss')\n",
    "plt.title('Training and Validation Loss')\n",
    "plt.xlabel('Epochs')\n",
    "plt.ylabel('Loss')\n",
    "plt.legend()\n",
    "plt.show()"
   ]
  },
  {
   "cell_type": "code",
   "execution_count": 192,
   "metadata": {},
   "outputs": [],
   "source": [
    "torch.save(model.state_dict(), '/Applications/ML projects/Anomaly Detection - Pump Sensor /Model/model.pth')"
   ]
  },
  {
   "cell_type": "code",
   "execution_count": 193,
   "metadata": {},
   "outputs": [
    {
     "data": {
      "text/plain": [
       "<All keys matched successfully>"
      ]
     },
     "execution_count": 193,
     "metadata": {},
     "output_type": "execute_result"
    }
   ],
   "source": [
    "path = '/Applications/ML projects/Anomaly Detection - Pump Sensor /Model/model.pth'\n",
    "model = LSTM_Model()\n",
    "model.load_state_dict(torch.load(path))"
   ]
  },
  {
   "cell_type": "code",
   "execution_count": 196,
   "metadata": {},
   "outputs": [],
   "source": [
    "anomaly_dataset = anomaly_sequences.clone().float()"
   ]
  },
  {
   "cell_type": "code",
   "execution_count": 197,
   "metadata": {},
   "outputs": [
    {
     "data": {
      "text/plain": [
       "tensor([0.7229, 0.7229, 0.7229, 0.7229, 0.7460, 0.7229, 0.7229, 0.7229, 0.7460,\n",
       "        0.7460, 0.7229, 0.7460, 0.7460, 0.7229, 0.7229, 0.7229, 0.7229, 0.7229,\n",
       "        0.7229, 0.7229, 0.7229, 0.7229, 0.7229, 0.7229, 0.7229, 0.7229, 0.7229,\n",
       "        0.7229, 0.6998, 0.7229, 0.7229, 0.6998, 0.7229, 0.7460, 0.7229, 0.7229,\n",
       "        0.7229, 0.7460, 0.7229, 0.7229, 0.7229, 0.7229, 0.7229, 0.7229, 0.7460,\n",
       "        0.7460, 0.7460, 0.7229, 0.6998, 0.6998, 0.6998, 0.6998, 0.6767, 0.6305,\n",
       "        0.6305, 0.6305, 0.6074, 0.6074, 0.5612, 0.5843])"
      ]
     },
     "execution_count": 197,
     "metadata": {},
     "output_type": "execute_result"
    }
   ],
   "source": [
    "anomaly_dataset[0]"
   ]
  },
  {
   "cell_type": "code",
   "execution_count": 243,
   "metadata": {},
   "outputs": [],
   "source": [
    "def get_loss(dataset):\n",
    "    losses = []\n",
    "    for seq in dataset:\n",
    "        seq = seq.to(device)\n",
    "        pred_seq = model(seq)\n",
    "        pred_seq = pred_seq.reshape(seq.shape)\n",
    "        loss = criterion(pred_seq, seq)\n",
    "        losses.append(loss.item())\n",
    "    return sum(losses) / len(losses)"
   ]
  },
  {
   "cell_type": "code",
   "execution_count": 244,
   "metadata": {},
   "outputs": [
    {
     "data": {
      "text/plain": [
       "1.6811320554450673"
      ]
     },
     "execution_count": 244,
     "metadata": {},
     "output_type": "execute_result"
    }
   ],
   "source": [
    "train_loss = get_loss(train_dataset)\n",
    "train_loss"
   ]
  },
  {
   "cell_type": "code",
   "execution_count": 245,
   "metadata": {},
   "outputs": [
    {
     "data": {
      "text/plain": [
       "1.6177693903446198"
      ]
     },
     "execution_count": 245,
     "metadata": {},
     "output_type": "execute_result"
    }
   ],
   "source": [
    "val_loss = get_loss(val_dataset)\n",
    "val_loss"
   ]
  },
  {
   "cell_type": "code",
   "execution_count": 246,
   "metadata": {},
   "outputs": [
    {
     "data": {
      "text/plain": [
       "1.687225608063526"
      ]
     },
     "execution_count": 246,
     "metadata": {},
     "output_type": "execute_result"
    }
   ],
   "source": [
    "test_loss = get_loss(test_dataset)\n",
    "test_loss"
   ]
  },
  {
   "cell_type": "code",
   "execution_count": 247,
   "metadata": {},
   "outputs": [
    {
     "data": {
      "text/plain": [
       "4.38264346750159"
      ]
     },
     "execution_count": 247,
     "metadata": {},
     "output_type": "execute_result"
    }
   ],
   "source": [
    "anomaly_loss = get_loss(anomaly_dataset)\n",
    "anomaly_loss"
   ]
  },
  {
   "cell_type": "code",
   "execution_count": 249,
   "metadata": {},
   "outputs": [
    {
     "data": {
      "text/plain": [
       "torch.Tensor"
      ]
     },
     "execution_count": 249,
     "metadata": {},
     "output_type": "execute_result"
    }
   ],
   "source": [
    "type(hourly_sequences_tensor)"
   ]
  },
  {
   "cell_type": "code",
   "execution_count": 250,
   "metadata": {},
   "outputs": [
    {
     "data": {
      "text/plain": [
       "torch.Size([4895, 60])"
      ]
     },
     "execution_count": 250,
     "metadata": {},
     "output_type": "execute_result"
    }
   ],
   "source": [
    "sequences = hourly_sequences_tensor.float()\n",
    "sequences.shape"
   ]
  },
  {
   "cell_type": "code",
   "execution_count": 251,
   "metadata": {},
   "outputs": [
    {
     "data": {
      "text/plain": [
       "torch.Size([4895])"
      ]
     },
     "execution_count": 251,
     "metadata": {},
     "output_type": "execute_result"
    }
   ],
   "source": [
    "target_counts_tensor.shape"
   ]
  },
  {
   "cell_type": "code",
   "execution_count": 257,
   "metadata": {},
   "outputs": [
    {
     "name": "stdout",
     "output_type": "stream",
     "text": [
      "Accuracy:  90.88866189989785\n"
     ]
    }
   ],
   "source": [
    "tp = 0\n",
    "threshold = 3.0\n",
    "for idx in range(sequences.shape[0]):\n",
    "    seq = sequences[idx]\n",
    "    tar = target_counts_tensor[idx]\n",
    "    seq = seq.to(device)\n",
    "    pred_seq = model(seq)\n",
    "    pred_seq = pred_seq.reshape(seq.shape)\n",
    "    loss = criterion(pred_seq, seq).item()\n",
    "    if (loss < threshold and (tar == 0 or tar == 60)):\n",
    "        tp += 1\n",
    "    elif (loss > threshold and tar != 0 and tar != 60):\n",
    "        tp += 1\n",
    "print(\"Accuracy: \", (tp / sequences.shape[0]) * 100)"
   ]
  },
  {
   "attachments": {},
   "cell_type": "markdown",
   "metadata": {},
   "source": [
    "Threshold = 3.00;  Accuracy = 90.89"
   ]
  }
 ],
 "metadata": {
  "kernelspec": {
   "display_name": "Python 3",
   "language": "python",
   "name": "python3"
  },
  "language_info": {
   "codemirror_mode": {
    "name": "ipython",
    "version": 3
   },
   "file_extension": ".py",
   "mimetype": "text/x-python",
   "name": "python",
   "nbconvert_exporter": "python",
   "pygments_lexer": "ipython3",
   "version": "3.10.3"
  },
  "orig_nbformat": 4
 },
 "nbformat": 4,
 "nbformat_minor": 2
}
